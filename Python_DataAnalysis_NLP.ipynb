{
 "cells": [
  {
   "cell_type": "markdown",
   "id": "c80d3ec4",
   "metadata": {
    "ExecuteTime": {
     "end_time": "2023-05-12T04:39:13.699936Z",
     "start_time": "2023-05-12T04:39:13.687935Z"
    }
   },
   "source": [
    "# 機械学習の応用\n",
    "機械学習の応用として、文書から単語の抽出・文書が扱っているトピックの推定など自然言語の解析があげられる。ここでは文書のネガポジ判定を行う事をゴールとする"
   ]
  },
  {
   "cell_type": "markdown",
   "id": "d3a308c7",
   "metadata": {},
   "source": [
    "## 必要なライブラリー\n",
    "- Mecab - 京都大学・NTTで共同開発された形態解析用のエンジン\n",
    "- Janome - Pythonの辞書型を自然言語処理に用いるための形態解析用エンジン\n",
    "- SudachiPy - ワークスアプリケーションズが開発した形態素解析ライブラリ\n",
    "- Gensim - トピックモデル（文章の扱うトピック）の推定、Word2Vecの実行ができるライブラリ\n",
    "- NLTK - 自然言語処理全般をサポートするライブラリ\n",
    "- spaCy - Python・Cythonで高度な自然言語処理ができる\n",
    "- GiNZA - spaCyをベースにした日本語の自然言語処理ライブラリ"
   ]
  },
  {
   "cell_type": "code",
   "execution_count": 9,
   "id": "ee37806e",
   "metadata": {
    "ExecuteTime": {
     "end_time": "2023-05-23T04:31:16.275091Z",
     "start_time": "2023-05-23T04:30:55.181046Z"
    }
   },
   "outputs": [
    {
     "name": "stdout",
     "output_type": "stream",
     "text": [
      "Requirement already satisfied: MeCab in c:\\users\\guest017\\anaconda3\\lib\\site-packages (0.996.3)\n"
     ]
    }
   ],
   "source": [
    "!pip install MeCab"
   ]
  },
  {
   "cell_type": "code",
   "execution_count": 14,
   "id": "d3c24934",
   "metadata": {
    "ExecuteTime": {
     "end_time": "2023-05-23T04:33:00.117219Z",
     "start_time": "2023-05-23T04:32:21.245606Z"
    }
   },
   "outputs": [
    {
     "name": "stdout",
     "output_type": "stream",
     "text": [
      "Collecting ipadic\n",
      "  Downloading ipadic-1.0.0.tar.gz (13.4 MB)\n",
      "     --------------------------------------- 13.4/13.4 MB 16.8 MB/s eta 0:00:00\n",
      "  Preparing metadata (setup.py): started\n",
      "  Preparing metadata (setup.py): finished with status 'done'\n",
      "Building wheels for collected packages: ipadic\n",
      "  Building wheel for ipadic (setup.py): started\n",
      "  Building wheel for ipadic (setup.py): finished with status 'done'\n",
      "  Created wheel for ipadic: filename=ipadic-1.0.0-py3-none-any.whl size=13556720 sha256=9fdba0982d35712d7a66f71a0de1ea90bea82f1136cef917f14caef5bdafe797\n",
      "  Stored in directory: c:\\users\\guest017\\appdata\\local\\pip\\cache\\wheels\\14\\16\\fd\\b9f8e3ebd3a1260e6facdbfb01bcfeb897047393badbf8ea44\n",
      "Successfully built ipadic\n",
      "Installing collected packages: ipadic\n",
      "Successfully installed ipadic-1.0.0\n"
     ]
    }
   ],
   "source": [
    "!pip install ipadic"
   ]
  },
  {
   "cell_type": "code",
   "execution_count": 15,
   "id": "7bc9021d",
   "metadata": {
    "ExecuteTime": {
     "end_time": "2023-05-23T04:35:37.459369Z",
     "start_time": "2023-05-23T04:35:19.282709Z"
    }
   },
   "outputs": [
    {
     "name": "stdout",
     "output_type": "stream",
     "text": [
      "Requirement already satisfied: mecab-python3 in c:\\users\\guest017\\anaconda3\\lib\\site-packages (1.0.6)\n",
      "Note: you may need to restart the kernel to use updated packages.\n"
     ]
    }
   ],
   "source": [
    "pip install mecab-python3"
   ]
  },
  {
   "cell_type": "code",
   "execution_count": 16,
   "id": "b53933d0",
   "metadata": {
    "ExecuteTime": {
     "end_time": "2023-05-23T04:35:54.743526Z",
     "start_time": "2023-05-23T04:35:37.597891Z"
    }
   },
   "outputs": [
    {
     "name": "stdout",
     "output_type": "stream",
     "text": [
      "Requirement already satisfied: gensim in c:\\users\\guest017\\anaconda3\\lib\\site-packages (4.3.0)\n",
      "Requirement already satisfied: numpy>=1.18.5 in c:\\users\\guest017\\anaconda3\\lib\\site-packages (from gensim) (1.23.5)\n",
      "Requirement already satisfied: scipy>=1.7.0 in c:\\users\\guest017\\anaconda3\\lib\\site-packages (from gensim) (1.10.0)\n",
      "Requirement already satisfied: FuzzyTM>=0.4.0 in c:\\users\\guest017\\anaconda3\\lib\\site-packages (from gensim) (2.0.5)\n",
      "Requirement already satisfied: smart-open>=1.8.1 in c:\\users\\guest017\\anaconda3\\lib\\site-packages (from gensim) (5.2.1)\n",
      "Requirement already satisfied: pyfume in c:\\users\\guest017\\anaconda3\\lib\\site-packages (from FuzzyTM>=0.4.0->gensim) (0.2.25)\n",
      "Requirement already satisfied: pandas in c:\\users\\guest017\\anaconda3\\lib\\site-packages (from FuzzyTM>=0.4.0->gensim) (1.5.3)\n",
      "Requirement already satisfied: python-dateutil>=2.8.1 in c:\\users\\guest017\\anaconda3\\lib\\site-packages (from pandas->FuzzyTM>=0.4.0->gensim) (2.8.2)\n",
      "Requirement already satisfied: pytz>=2020.1 in c:\\users\\guest017\\anaconda3\\lib\\site-packages (from pandas->FuzzyTM>=0.4.0->gensim) (2022.7)\n",
      "Requirement already satisfied: fst-pso in c:\\users\\guest017\\anaconda3\\lib\\site-packages (from pyfume->FuzzyTM>=0.4.0->gensim) (1.8.1)\n",
      "Requirement already satisfied: simpful in c:\\users\\guest017\\anaconda3\\lib\\site-packages (from pyfume->FuzzyTM>=0.4.0->gensim) (2.11.0)\n",
      "Requirement already satisfied: six>=1.5 in c:\\users\\guest017\\anaconda3\\lib\\site-packages (from python-dateutil>=2.8.1->pandas->FuzzyTM>=0.4.0->gensim) (1.16.0)\n",
      "Requirement already satisfied: miniful in c:\\users\\guest017\\anaconda3\\lib\\site-packages (from fst-pso->pyfume->FuzzyTM>=0.4.0->gensim) (0.0.6)\n",
      "Note: you may need to restart the kernel to use updated packages.\n"
     ]
    }
   ],
   "source": [
    "pip install gensim"
   ]
  },
  {
   "cell_type": "code",
   "execution_count": 17,
   "id": "699f18ec",
   "metadata": {
    "ExecuteTime": {
     "end_time": "2023-05-23T04:36:11.772889Z",
     "start_time": "2023-05-23T04:35:54.912293Z"
    }
   },
   "outputs": [
    {
     "name": "stdout",
     "output_type": "stream",
     "text": [
      "Requirement already satisfied: unidic-lite in c:\\users\\guest017\\anaconda3\\lib\\site-packages (1.0.8)\n"
     ]
    }
   ],
   "source": [
    "!pip install unidic-lite"
   ]
  },
  {
   "cell_type": "code",
   "execution_count": null,
   "id": "1c745e34",
   "metadata": {
    "ExecuteTime": {
     "start_time": "2023-05-23T04:42:15.788Z"
    }
   },
   "outputs": [],
   "source": [
    "!pip install unidic-lite"
   ]
  },
  {
   "cell_type": "code",
   "execution_count": 22,
   "id": "5020c5c1",
   "metadata": {
    "ExecuteTime": {
     "end_time": "2023-05-23T04:47:55.012254Z",
     "start_time": "2023-05-23T04:47:54.797967Z"
    }
   },
   "outputs": [
    {
     "ename": "RuntimeError",
     "evalue": "\n----------------------------------------------------------\n\nFailed initializing MeCab. Please see the README for possible solutions:\n\n    https://github.com/SamuraiT/mecab-python3#common-issues\n\nIf you are still having trouble, please file an issue here, and include the\nERROR DETAILS below:\n\n    https://github.com/SamuraiT/mecab-python3/issues\n\nissueを英語で書く必要はありません。\n\n------------------- ERROR DETAILS ------------------------\narguments: -Ochasen\n [!tmp.empty()] unknown format type [chasen]\n----------------------------------------------------------\n",
     "output_type": "error",
     "traceback": [
      "\u001b[1;31m---------------------------------------------------------------------------\u001b[0m",
      "\u001b[1;31mRuntimeError\u001b[0m                              Traceback (most recent call last)",
      "File \u001b[1;32m~\\anaconda3\\lib\\site-packages\\MeCab\\__init__.py:133\u001b[0m, in \u001b[0;36mTagger.__init__\u001b[1;34m(self, rawargs)\u001b[0m\n\u001b[0;32m    132\u001b[0m \u001b[38;5;28;01mtry\u001b[39;00m:\n\u001b[1;32m--> 133\u001b[0m     \u001b[38;5;28;43msuper\u001b[39;49m\u001b[43m(\u001b[49m\u001b[43mTagger\u001b[49m\u001b[43m,\u001b[49m\u001b[43m \u001b[49m\u001b[38;5;28;43mself\u001b[39;49m\u001b[43m)\u001b[49m\u001b[38;5;241;43m.\u001b[39;49m\u001b[38;5;21;43m__init__\u001b[39;49m\u001b[43m(\u001b[49m\u001b[43margs\u001b[49m\u001b[43m)\u001b[49m\n\u001b[0;32m    134\u001b[0m \u001b[38;5;28;01mexcept\u001b[39;00m \u001b[38;5;167;01mRuntimeError\u001b[39;00m \u001b[38;5;28;01mas\u001b[39;00m ee:\n",
      "\u001b[1;31mRuntimeError\u001b[0m: ",
      "\nThe above exception was the direct cause of the following exception:\n",
      "\u001b[1;31mRuntimeError\u001b[0m                              Traceback (most recent call last)",
      "Cell \u001b[1;32mIn[22], line 2\u001b[0m\n\u001b[0;32m      1\u001b[0m \u001b[38;5;28;01mimport\u001b[39;00m \u001b[38;5;21;01mMeCab\u001b[39;00m\n\u001b[1;32m----> 2\u001b[0m mecab \u001b[38;5;241m=\u001b[39m \u001b[43mMeCab\u001b[49m\u001b[38;5;241;43m.\u001b[39;49m\u001b[43mTagger\u001b[49m\u001b[43m(\u001b[49m\u001b[38;5;124;43m\"\u001b[39;49m\u001b[38;5;124;43m-Ochasen\u001b[39;49m\u001b[38;5;124;43m\"\u001b[39;49m\u001b[43m)\u001b[49m\n\u001b[0;32m      3\u001b[0m \u001b[38;5;28mprint\u001b[39m(mecab\u001b[38;5;241m.\u001b[39mparse(\u001b[38;5;124m\"\u001b[39m\u001b[38;5;124mロイヤルミルクティーはミルクティーよりもカロリーが高い\u001b[39m\u001b[38;5;124m\"\u001b[39m))\n",
      "File \u001b[1;32m~\\anaconda3\\lib\\site-packages\\MeCab\\__init__.py:135\u001b[0m, in \u001b[0;36mTagger.__init__\u001b[1;34m(self, rawargs)\u001b[0m\n\u001b[0;32m    133\u001b[0m     \u001b[38;5;28msuper\u001b[39m(Tagger, \u001b[38;5;28mself\u001b[39m)\u001b[38;5;241m.\u001b[39m\u001b[38;5;21m__init__\u001b[39m(args)\n\u001b[0;32m    134\u001b[0m \u001b[38;5;28;01mexcept\u001b[39;00m \u001b[38;5;167;01mRuntimeError\u001b[39;00m \u001b[38;5;28;01mas\u001b[39;00m ee:\n\u001b[1;32m--> 135\u001b[0m     \u001b[38;5;28;01mraise\u001b[39;00m \u001b[38;5;167;01mRuntimeError\u001b[39;00m(error_info(rawargs)) \u001b[38;5;28;01mfrom\u001b[39;00m \u001b[38;5;21;01mee\u001b[39;00m\n",
      "\u001b[1;31mRuntimeError\u001b[0m: \n----------------------------------------------------------\n\nFailed initializing MeCab. Please see the README for possible solutions:\n\n    https://github.com/SamuraiT/mecab-python3#common-issues\n\nIf you are still having trouble, please file an issue here, and include the\nERROR DETAILS below:\n\n    https://github.com/SamuraiT/mecab-python3/issues\n\nissueを英語で書く必要はありません。\n\n------------------- ERROR DETAILS ------------------------\narguments: -Ochasen\n [!tmp.empty()] unknown format type [chasen]\n----------------------------------------------------------\n"
     ]
    }
   ],
   "source": [
    "import MeCab\n",
    ">>> mecab = MeCab.Tagger(\"-Ochasen\")\n",
    ">>> print(mecab.parse(\"ロイヤルミルクティーはミルクティーよりもカロリーが高い\"))"
   ]
  },
  {
   "cell_type": "code",
   "execution_count": 19,
   "id": "e9b30ef6",
   "metadata": {
    "ExecuteTime": {
     "end_time": "2023-05-23T02:35:01.407839Z",
     "start_time": "2023-05-23T02:35:01.373842Z"
    }
   },
   "outputs": [
    {
     "ename": "SyntaxError",
     "evalue": "invalid character '。' (U+3002) (4050779486.py, line 3)",
     "output_type": "error",
     "traceback": [
      "\u001b[1;36m  Cell \u001b[1;32mIn[19], line 3\u001b[1;36m\u001b[0m\n\u001b[1;33m    K近傍法は予めどれほどのクラスタが存在するか判明している場合に有効。\u001b[0m\n\u001b[1;37m                                     ^\u001b[0m\n\u001b[1;31mSyntaxError\u001b[0m\u001b[1;31m:\u001b[0m invalid character '。' (U+3002)\n"
     ]
    }
   ],
   "source": [
    "#K近傍法\n",
    "\n",
    "K近傍法は予めどれほどのクラスタが存在するか判明している場合に有効。\n",
    "irisデータの場合はクラス数が3であることが分かっている。"
   ]
  }
 ],
 "metadata": {
  "hide_input": false,
  "kernelspec": {
   "display_name": "Python 3 (ipykernel)",
   "language": "python",
   "name": "python3"
  },
  "language_info": {
   "codemirror_mode": {
    "name": "ipython",
    "version": 3
   },
   "file_extension": ".py",
   "mimetype": "text/x-python",
   "name": "python",
   "nbconvert_exporter": "python",
   "pygments_lexer": "ipython3",
   "version": "3.10.9"
  },
  "nbTranslate": {
   "displayLangs": [
    "*"
   ],
   "hotkey": "alt-t",
   "langInMainMenu": true,
   "sourceLang": "en",
   "targetLang": "fr",
   "useGoogleTranslate": true
  },
  "notify_time": "30",
  "toc": {
   "base_numbering": 1,
   "nav_menu": {},
   "number_sections": true,
   "sideBar": true,
   "skip_h1_title": false,
   "title_cell": "Table of Contents",
   "title_sidebar": "Contents",
   "toc_cell": false,
   "toc_position": {},
   "toc_section_display": true,
   "toc_window_display": false
  },
  "varInspector": {
   "cols": {
    "lenName": 16,
    "lenType": 16,
    "lenVar": 40
   },
   "kernels_config": {
    "python": {
     "delete_cmd_postfix": "",
     "delete_cmd_prefix": "del ",
     "library": "var_list.py",
     "varRefreshCmd": "print(var_dic_list())"
    },
    "r": {
     "delete_cmd_postfix": ") ",
     "delete_cmd_prefix": "rm(",
     "library": "var_list.r",
     "varRefreshCmd": "cat(var_dic_list()) "
    }
   },
   "types_to_exclude": [
    "module",
    "function",
    "builtin_function_or_method",
    "instance",
    "_Feature"
   ],
   "window_display": false
  }
 },
 "nbformat": 4,
 "nbformat_minor": 5
}
