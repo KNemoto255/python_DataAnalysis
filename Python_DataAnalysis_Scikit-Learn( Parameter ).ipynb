{
 "cells": [
  {
   "cell_type": "markdown",
   "id": "c80d3ec4",
   "metadata": {
    "ExecuteTime": {
     "end_time": "2023-05-12T04:39:13.699936Z",
     "start_time": "2023-05-12T04:39:13.687935Z"
    }
   },
   "source": [
    "# ScikitLearnの学習 ( ハイパーパラメータ― )\n",
    "機械学習のアルゴリズムには、学習に用いる指標を更に自動で更新できるようにするハイパーパラメーターという指標がある。\n",
    "ハイパーパラメーターは学習とは別にユーザーが値を設定する必要がある。\n",
    "今回は決定木のハイパーパラメーター(最大深度)をグリッドサーチ(Grid Search)という手法で最適化する方法を考える。"
   ]
  },
  {
   "cell_type": "markdown",
   "id": "80be5b72",
   "metadata": {
    "ExecuteTime": {
     "end_time": "2023-05-12T04:43:03.897000Z",
     "start_time": "2023-05-12T04:43:03.864999Z"
    }
   },
   "source": [
    "## 決定木のグリッドサーチ"
   ]
  },
  {
   "cell_type": "code",
   "execution_count": 7,
   "id": "e57e5c50",
   "metadata": {
    "ExecuteTime": {
     "end_time": "2023-05-18T05:08:18.034081Z",
     "start_time": "2023-05-18T05:08:13.485743Z"
    }
   },
   "outputs": [],
   "source": [
    "#決定木のグリッドサーチ\n",
    "#irisをデータセットに用い、決定木をグリッドサーチで最適化する\n",
    "from sklearn.datasets import load_iris\n",
    "from sklearn.tree import DecisionTreeClassifier\n",
    "from sklearn.model_selection import train_test_split, GridSearchCV\n",
    "\n",
    "#irisデータを読み込み\n",
    "iris = load_iris()\n",
    "X,y = iris.data, iris.target\n",
    "\n",
    "#train_test_split - 教師あり学習用のデータを学習用・テスト用に分割する\n",
    "X_train, X_test, y_train, y_test = train_test_split(X, y, test_size=0.3, random_state=123)\n",
    "\n",
    "#決定木のインスタンス\n",
    "tree = DecisionTreeClassifier(random_state=123)\n",
    "\n",
    "#グリッドサーチ - 決定木の最大深度の内、どれが最適かを検証する\n",
    "param_grid={\"max_depth\":[3,4,5,6,7,8,9,10]}\n",
    "\n",
    "#学習\n",
    "tree.fit(X_train, y_train)\n",
    "\n",
    "#グリッドサーチ - 交差検証を10回\n",
    "cv = GridSearchCV(tree, param_grid=param_grid, cv=10)\n",
    "cv.fit(X_train, y_train)\n",
    "\n",
    "#テストデータの予測開始\n",
    "y_pred = tree.predict(X_test)"
   ]
  },
  {
   "cell_type": "code",
   "execution_count": 10,
   "id": "99e15172",
   "metadata": {},
   "outputs": [
    {
     "name": "stdout",
     "output_type": "stream",
     "text": [
      "Predict Results:  [1 2 2 1 0 2 1 0 0 1 2 0 1 2 2 2 0 0 1 0 0 1 0 2 0 0 0 2 2 0 2 1 0 0 1 1 2\n",
      " 0 0 1 1 0 2 2 2]\n",
      "Best Parameter:  {'max_depth': 3}\n",
      "Best Model:  DecisionTreeClassifier(max_depth=3, random_state=123)\n",
      "Train Score:  1.0\n",
      "Test Score:  0.9555555555555556\n"
     ]
    }
   ],
   "source": [
    "#決定木を使った予測\n",
    "print(\"Predict Results: \",y_pred)\n",
    "\n",
    "#最適なパラメータ・モデルを表示\n",
    "print(\"Best Parameter: \", cv.best_params_)\n",
    "print(\"Best Model: \", cv.best_estimator_)\n",
    "\n",
    "#汎用性能・テスト性能を測る\n",
    "y_train_score = tree.score(X_train,y_train)\n",
    "print(\"Train Score: \", y_train_score)\n",
    "\n",
    "y_test_score = tree.score(X_test,y_test)\n",
    "print(\"Test Score: \", y_test_score)"
   ]
  },
  {
   "cell_type": "code",
   "execution_count": 4,
   "id": "14cfa1cd",
   "metadata": {},
   "outputs": [
    {
     "name": "stdout",
     "output_type": "stream",
     "text": [
      "Requirement already satisfied: pydotplus in c:\\users\\user\\anaconda3\\lib\\site-packages (2.0.2)\n",
      "Requirement already satisfied: pyparsing>=2.0.1 in c:\\users\\user\\anaconda3\\lib\\site-packages (from pydotplus) (3.0.9)\n"
     ]
    },
    {
     "data": {
      "text/plain": [
       "True"
      ]
     },
     "execution_count": 4,
     "metadata": {},
     "output_type": "execute_result"
    }
   ],
   "source": [
    "#pydotplusを用いて決定木を視覚化\n",
    "!pip install pydotplus\n",
    "\n",
    "#pydotplus・graghvizで可視化\n",
    "from pydotplus import graph_from_dot_data\n",
    "from sklearn.tree import export_graphviz\n",
    "\n",
    "dot_data = export_graphviz(tree, filled=True, rounded = True, class_names=[\"Setosa\", \"Versicolor\", \"Virginica\"], feature_names=[\"Sepal Length\",\"Sepal Width\",\"Petal Length\",\"Petal Width\"], out_file=None)\n",
    "\n",
    "#グラフを出力\n",
    "graph = graph_from_dot_data(dot_data)\n",
    "graph.progs = {'dot': u\"C:\\\\Program Files\\\\Graphviz\\\\bin\\\\dot.exe\"}\n",
    "graph.write_png(\"Iris_tree02.png\")"
   ]
  },
  {
   "cell_type": "code",
   "execution_count": null,
   "id": "d696fa69",
   "metadata": {},
   "outputs": [],
   "source": []
  }
 ],
 "metadata": {
  "hide_input": false,
  "kernelspec": {
   "display_name": "Python 3 (ipykernel)",
   "language": "python",
   "name": "python3"
  },
  "language_info": {
   "codemirror_mode": {
    "name": "ipython",
    "version": 3
   },
   "file_extension": ".py",
   "mimetype": "text/x-python",
   "name": "python",
   "nbconvert_exporter": "python",
   "pygments_lexer": "ipython3",
   "version": "3.10.9"
  },
  "nbTranslate": {
   "displayLangs": [
    "*"
   ],
   "hotkey": "alt-t",
   "langInMainMenu": true,
   "sourceLang": "en",
   "targetLang": "fr",
   "useGoogleTranslate": true
  },
  "notify_time": "30",
  "toc": {
   "base_numbering": 1,
   "nav_menu": {},
   "number_sections": true,
   "sideBar": true,
   "skip_h1_title": false,
   "title_cell": "Table of Contents",
   "title_sidebar": "Contents",
   "toc_cell": false,
   "toc_position": {},
   "toc_section_display": true,
   "toc_window_display": false
  },
  "varInspector": {
   "cols": {
    "lenName": 16,
    "lenType": 16,
    "lenVar": 40
   },
   "kernels_config": {
    "python": {
     "delete_cmd_postfix": "",
     "delete_cmd_prefix": "del ",
     "library": "var_list.py",
     "varRefreshCmd": "print(var_dic_list())"
    },
    "r": {
     "delete_cmd_postfix": ") ",
     "delete_cmd_prefix": "rm(",
     "library": "var_list.r",
     "varRefreshCmd": "cat(var_dic_list()) "
    }
   },
   "types_to_exclude": [
    "module",
    "function",
    "builtin_function_or_method",
    "instance",
    "_Feature"
   ],
   "window_display": false
  }
 },
 "nbformat": 4,
 "nbformat_minor": 5
}
