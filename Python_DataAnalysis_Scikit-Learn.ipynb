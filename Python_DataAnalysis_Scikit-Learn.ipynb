{
 "cells": [
  {
   "cell_type": "markdown",
   "id": "c80d3ec4",
   "metadata": {
    "ExecuteTime": {
     "end_time": "2023-05-12T04:39:13.699936Z",
     "start_time": "2023-05-12T04:39:13.687935Z"
    }
   },
   "source": [
    "# ScikitLearnの学習\n",
    "機械学習・データマイニングを行うためのライブラリ。\n",
    "かなり複雑な深層学習以外のMLはたいていScikitで実行できる\n",
    "numpy・pandasと合わせて使うのが前提"
   ]
  },
  {
   "cell_type": "markdown",
   "id": "80be5b72",
   "metadata": {
    "ExecuteTime": {
     "end_time": "2023-05-12T04:43:03.897000Z",
     "start_time": "2023-05-12T04:43:03.864999Z"
    }
   },
   "source": [
    "## 前処理\n",
    "Scikitではデータの前処理を行う事ができる\n",
    "- 欠損値の対処\n",
    "- 定性データをワンホットベクトルに変換\n",
    "- 定量データの正規化・正則化"
   ]
  },
  {
   "cell_type": "markdown",
   "id": "903a9ca8",
   "metadata": {
    "ExecuteTime": {
     "end_time": "2023-05-12T04:43:40.789315Z",
     "start_time": "2023-05-12T04:43:40.770315Z"
    }
   },
   "source": [
    "###　欠損値の除去・補完"
   ]
  },
  {
   "cell_type": "code",
   "execution_count": 9,
   "id": "54c7a155",
   "metadata": {
    "ExecuteTime": {
     "end_time": "2023-05-12T04:49:51.690437Z",
     "start_time": "2023-05-12T04:49:51.638436Z"
    }
   },
   "outputs": [
    {
     "data": {
      "text/html": [
       "<div>\n",
       "<style scoped>\n",
       "    .dataframe tbody tr th:only-of-type {\n",
       "        vertical-align: middle;\n",
       "    }\n",
       "\n",
       "    .dataframe tbody tr th {\n",
       "        vertical-align: top;\n",
       "    }\n",
       "\n",
       "    .dataframe thead th {\n",
       "        text-align: right;\n",
       "    }\n",
       "</style>\n",
       "<table border=\"1\" class=\"dataframe\">\n",
       "  <thead>\n",
       "    <tr style=\"text-align: right;\">\n",
       "      <th></th>\n",
       "      <th>A</th>\n",
       "      <th>B</th>\n",
       "      <th>C</th>\n",
       "    </tr>\n",
       "  </thead>\n",
       "  <tbody>\n",
       "    <tr>\n",
       "      <th>0</th>\n",
       "      <td>1.0</td>\n",
       "      <td>6.0</td>\n",
       "      <td>11</td>\n",
       "    </tr>\n",
       "    <tr>\n",
       "      <th>1</th>\n",
       "      <td>NaN</td>\n",
       "      <td>7.0</td>\n",
       "      <td>12</td>\n",
       "    </tr>\n",
       "    <tr>\n",
       "      <th>2</th>\n",
       "      <td>3.0</td>\n",
       "      <td>8.0</td>\n",
       "      <td>13</td>\n",
       "    </tr>\n",
       "    <tr>\n",
       "      <th>3</th>\n",
       "      <td>4.0</td>\n",
       "      <td>NaN</td>\n",
       "      <td>14</td>\n",
       "    </tr>\n",
       "    <tr>\n",
       "      <th>4</th>\n",
       "      <td>5.0</td>\n",
       "      <td>10.0</td>\n",
       "      <td>15</td>\n",
       "    </tr>\n",
       "  </tbody>\n",
       "</table>\n",
       "</div>"
      ],
      "text/plain": [
       "     A     B   C\n",
       "0  1.0   6.0  11\n",
       "1  NaN   7.0  12\n",
       "2  3.0   8.0  13\n",
       "3  4.0   NaN  14\n",
       "4  5.0  10.0  15"
      ]
     },
     "execution_count": 9,
     "metadata": {},
     "output_type": "execute_result"
    }
   ],
   "source": [
    "import numpy as np\n",
    "import pandas as pd\n",
    "\n",
    "df = pd.DataFrame(\n",
    "    {\n",
    "    \"A\":[1,np.nan,3,4,5],\n",
    "    \"B\":[6,7,8,np.nan,10],\n",
    "    \"C\":[11,12,13,14,15]\n",
    "    }\n",
    ")\n",
    "\n",
    "df"
   ]
  },
  {
   "cell_type": "code",
   "execution_count": 10,
   "id": "3892b998",
   "metadata": {
    "ExecuteTime": {
     "end_time": "2023-05-12T04:49:52.137532Z",
     "start_time": "2023-05-12T04:49:52.107532Z"
    }
   },
   "outputs": [
    {
     "data": {
      "text/html": [
       "<div>\n",
       "<style scoped>\n",
       "    .dataframe tbody tr th:only-of-type {\n",
       "        vertical-align: middle;\n",
       "    }\n",
       "\n",
       "    .dataframe tbody tr th {\n",
       "        vertical-align: top;\n",
       "    }\n",
       "\n",
       "    .dataframe thead th {\n",
       "        text-align: right;\n",
       "    }\n",
       "</style>\n",
       "<table border=\"1\" class=\"dataframe\">\n",
       "  <thead>\n",
       "    <tr style=\"text-align: right;\">\n",
       "      <th></th>\n",
       "      <th>A</th>\n",
       "      <th>B</th>\n",
       "      <th>C</th>\n",
       "    </tr>\n",
       "  </thead>\n",
       "  <tbody>\n",
       "    <tr>\n",
       "      <th>0</th>\n",
       "      <td>False</td>\n",
       "      <td>False</td>\n",
       "      <td>False</td>\n",
       "    </tr>\n",
       "    <tr>\n",
       "      <th>1</th>\n",
       "      <td>True</td>\n",
       "      <td>False</td>\n",
       "      <td>False</td>\n",
       "    </tr>\n",
       "    <tr>\n",
       "      <th>2</th>\n",
       "      <td>False</td>\n",
       "      <td>False</td>\n",
       "      <td>False</td>\n",
       "    </tr>\n",
       "    <tr>\n",
       "      <th>3</th>\n",
       "      <td>False</td>\n",
       "      <td>True</td>\n",
       "      <td>False</td>\n",
       "    </tr>\n",
       "    <tr>\n",
       "      <th>4</th>\n",
       "      <td>False</td>\n",
       "      <td>False</td>\n",
       "      <td>False</td>\n",
       "    </tr>\n",
       "  </tbody>\n",
       "</table>\n",
       "</div>"
      ],
      "text/plain": [
       "       A      B      C\n",
       "0  False  False  False\n",
       "1   True  False  False\n",
       "2  False  False  False\n",
       "3  False   True  False\n",
       "4  False  False  False"
      ]
     },
     "execution_count": 10,
     "metadata": {},
     "output_type": "execute_result"
    }
   ],
   "source": [
    "# 欠損値かをbool値で返す\n",
    "df.isnull()"
   ]
  },
  {
   "cell_type": "code",
   "execution_count": 12,
   "id": "354c6cf1",
   "metadata": {
    "ExecuteTime": {
     "end_time": "2023-05-12T04:51:04.151359Z",
     "start_time": "2023-05-12T04:51:04.104357Z"
    }
   },
   "outputs": [
    {
     "data": {
      "text/plain": [
       "array([[ 1.  ,  6.  , 11.  ],\n",
       "       [ 3.25,  7.  , 12.  ],\n",
       "       [ 3.  ,  8.  , 13.  ],\n",
       "       [ 4.  ,  7.75, 14.  ],\n",
       "       [ 5.  , 10.  , 15.  ]])"
      ]
     },
     "execution_count": 12,
     "metadata": {},
     "output_type": "execute_result"
    }
   ],
   "source": [
    "# 欠損値の保管 - 値を補完する、SimpleImputerのメソッドを用いる\n",
    "# mean-平均、median-中央値、most_frequent-最頻値、constant-定数\n",
    "from sklearn.impute import SimpleImputer\n",
    "\n",
    "imp = SimpleImputer(strategy=\"mean\")\n",
    "imp.fit(df)\n",
    "imp.transform(df)"
   ]
  },
  {
   "cell_type": "code",
   "execution_count": 13,
   "id": "57d7a981",
   "metadata": {
    "ExecuteTime": {
     "end_time": "2023-05-12T04:51:35.311075Z",
     "start_time": "2023-05-12T04:51:35.277600Z"
    }
   },
   "outputs": [
    {
     "data": {
      "text/plain": [
       "array([[ 1.,  6., 11.],\n",
       "       [ 0.,  7., 12.],\n",
       "       [ 3.,  8., 13.],\n",
       "       [ 4.,  0., 14.],\n",
       "       [ 5., 10., 15.]])"
      ]
     },
     "execution_count": 13,
     "metadata": {},
     "output_type": "execute_result"
    }
   ],
   "source": [
    "from sklearn.impute import SimpleImputer\n",
    "value = 0\n",
    "\n",
    "imp = SimpleImputer(strategy=\"constant\", fill_value=value)\n",
    "imp.fit(df)\n",
    "imp.transform(df)"
   ]
  },
  {
   "cell_type": "markdown",
   "id": "3d41eb43",
   "metadata": {},
   "source": [
    "### 定性データをワンホットベクトルに変換"
   ]
  },
  {
   "cell_type": "code",
   "execution_count": 15,
   "id": "a1bc6bfe",
   "metadata": {
    "ExecuteTime": {
     "end_time": "2023-05-12T05:06:13.473450Z",
     "start_time": "2023-05-12T05:06:13.431448Z"
    }
   },
   "outputs": [
    {
     "data": {
      "text/html": [
       "<div>\n",
       "<style scoped>\n",
       "    .dataframe tbody tr th:only-of-type {\n",
       "        vertical-align: middle;\n",
       "    }\n",
       "\n",
       "    .dataframe tbody tr th {\n",
       "        vertical-align: top;\n",
       "    }\n",
       "\n",
       "    .dataframe thead th {\n",
       "        text-align: right;\n",
       "    }\n",
       "</style>\n",
       "<table border=\"1\" class=\"dataframe\">\n",
       "  <thead>\n",
       "    <tr style=\"text-align: right;\">\n",
       "      <th></th>\n",
       "      <th>A</th>\n",
       "      <th>B</th>\n",
       "    </tr>\n",
       "  </thead>\n",
       "  <tbody>\n",
       "    <tr>\n",
       "      <th>0</th>\n",
       "      <td>1</td>\n",
       "      <td>a</td>\n",
       "    </tr>\n",
       "    <tr>\n",
       "      <th>1</th>\n",
       "      <td>2</td>\n",
       "      <td>b</td>\n",
       "    </tr>\n",
       "    <tr>\n",
       "      <th>2</th>\n",
       "      <td>3</td>\n",
       "      <td>c</td>\n",
       "    </tr>\n",
       "    <tr>\n",
       "      <th>3</th>\n",
       "      <td>4</td>\n",
       "      <td>a</td>\n",
       "    </tr>\n",
       "    <tr>\n",
       "      <th>4</th>\n",
       "      <td>5</td>\n",
       "      <td>b</td>\n",
       "    </tr>\n",
       "  </tbody>\n",
       "</table>\n",
       "</div>"
      ],
      "text/plain": [
       "   A  B\n",
       "0  1  a\n",
       "1  2  b\n",
       "2  3  c\n",
       "3  4  a\n",
       "4  5  b"
      ]
     },
     "execution_count": 15,
     "metadata": {},
     "output_type": "execute_result"
    }
   ],
   "source": [
    "df = pd.DataFrame(\n",
    "    {\n",
    "    \"A\":[1,2,3,4,5],\n",
    "    \"B\":[\"a\",\"b\",\"c\",\"a\",\"b\"]\n",
    "    }\n",
    ")\n",
    "\n",
    "df"
   ]
  },
  {
   "cell_type": "code",
   "execution_count": 20,
   "id": "eaa26a99",
   "metadata": {
    "ExecuteTime": {
     "end_time": "2023-05-12T05:10:05.293029Z",
     "start_time": "2023-05-12T05:10:05.262030Z"
    }
   },
   "outputs": [
    {
     "name": "stdout",
     "output_type": "stream",
     "text": [
      "[0 1 2 0 1]\n",
      "['a' 'b' 'c']\n"
     ]
    }
   ],
   "source": [
    "# LabelEncoder - str型などの定性データを値ごとにワンホットベクトルに変換する\n",
    "from sklearn.preprocessing import LabelEncoder\n",
    "\n",
    "#エンコーディング\n",
    "le = LabelEncoder()\n",
    "le.fit(df.loc[:,\"B\"])\n",
    "\n",
    "#変換後・元の値を確認\n",
    "print(le.transform(df.loc[:,\"B\"]))\n",
    "print(le.classes_ )"
   ]
  },
  {
   "cell_type": "code",
   "execution_count": 22,
   "id": "71723b6e",
   "metadata": {
    "ExecuteTime": {
     "end_time": "2023-05-12T05:15:27.319106Z",
     "start_time": "2023-05-12T05:15:27.195108Z"
    }
   },
   "outputs": [
    {
     "name": "stderr",
     "output_type": "stream",
     "text": [
      "C:\\Users\\guest017\\AppData\\Local\\Temp\\ipykernel_13100\\922263664.py:10: DeprecationWarning: In a future version, `df.iloc[:, i] = newvals` will attempt to set the values inplace instead of always setting a new array. To retain the old behavior, use either `df[df.columns[i]] = newvals` or, if columns are non-unique, `df.isetitem(i, newvals)`\n",
      "  df_ohe.loc[:,\"B\"] = le.fit_transform(df_ohe.loc[:,\"B\"])\n"
     ]
    },
    {
     "data": {
      "text/plain": [
       "array([[1., 0., 0., 1.],\n",
       "       [0., 1., 0., 2.],\n",
       "       [0., 0., 1., 3.],\n",
       "       [1., 0., 0., 4.],\n",
       "       [0., 1., 0., 5.]])"
      ]
     },
     "execution_count": 22,
     "metadata": {},
     "output_type": "execute_result"
    }
   ],
   "source": [
    "# LabelEncoder - str型などの定性データを値ごとにワンホットベクトルに変換する\n",
    "from sklearn.preprocessing import LabelEncoder,OneHotEncoder\n",
    "from sklearn.compose import ColumnTransformer\n",
    "\n",
    "#データフレームを複製\n",
    "df_ohe = df.copy()\n",
    "\n",
    "#エンコーディング\n",
    "le = LabelEncoder()\n",
    "df_ohe.loc[:,\"B\"] = le.fit_transform(df_ohe.loc[:,\"B\"])\n",
    "\n",
    "ohe = ColumnTransformer([(\"OneHotEncoder\", OneHotEncoder(),[1])], remainder=\"passthrough\")\n",
    "\n",
    "df_ohe = ohe.fit_transform(df_ohe)\n",
    "df_ohe"
   ]
  },
  {
   "cell_type": "markdown",
   "id": "4ed7d750",
   "metadata": {},
   "source": [
    "### 定量データの正規化・正則化\n",
    "- 分散正規化-平均が0，標準偏差を1にする\n",
    "- 最小最大正規化 - 最小値が0、最大値を1にする"
   ]
  },
  {
   "cell_type": "code",
   "execution_count": 29,
   "id": "02e30cc6",
   "metadata": {
    "ExecuteTime": {
     "end_time": "2023-05-12T05:25:14.961269Z",
     "start_time": "2023-05-12T05:25:14.926263Z"
    }
   },
   "outputs": [
    {
     "data": {
      "text/html": [
       "<div>\n",
       "<style scoped>\n",
       "    .dataframe tbody tr th:only-of-type {\n",
       "        vertical-align: middle;\n",
       "    }\n",
       "\n",
       "    .dataframe tbody tr th {\n",
       "        vertical-align: top;\n",
       "    }\n",
       "\n",
       "    .dataframe thead th {\n",
       "        text-align: right;\n",
       "    }\n",
       "</style>\n",
       "<table border=\"1\" class=\"dataframe\">\n",
       "  <thead>\n",
       "    <tr style=\"text-align: right;\">\n",
       "      <th></th>\n",
       "      <th>A</th>\n",
       "      <th>B</th>\n",
       "    </tr>\n",
       "  </thead>\n",
       "  <tbody>\n",
       "    <tr>\n",
       "      <th>0</th>\n",
       "      <td>1</td>\n",
       "      <td>100</td>\n",
       "    </tr>\n",
       "    <tr>\n",
       "      <th>1</th>\n",
       "      <td>2</td>\n",
       "      <td>200</td>\n",
       "    </tr>\n",
       "    <tr>\n",
       "      <th>2</th>\n",
       "      <td>3</td>\n",
       "      <td>400</td>\n",
       "    </tr>\n",
       "    <tr>\n",
       "      <th>3</th>\n",
       "      <td>4</td>\n",
       "      <td>500</td>\n",
       "    </tr>\n",
       "    <tr>\n",
       "      <th>4</th>\n",
       "      <td>5</td>\n",
       "      <td>800</td>\n",
       "    </tr>\n",
       "  </tbody>\n",
       "</table>\n",
       "</div>"
      ],
      "text/plain": [
       "   A    B\n",
       "0  1  100\n",
       "1  2  200\n",
       "2  3  400\n",
       "3  4  500\n",
       "4  5  800"
      ]
     },
     "execution_count": 29,
     "metadata": {},
     "output_type": "execute_result"
    }
   ],
   "source": [
    "#分散正規化\n",
    "import pandas as pd\n",
    "\n",
    "df = pd.DataFrame(\n",
    "    {\n",
    "    \"A\":[1,2,3,4,5],\n",
    "    \"B\":[100,200,400,500,800]\n",
    "    }\n",
    ")\n",
    "\n",
    "df"
   ]
  },
  {
   "cell_type": "code",
   "execution_count": 30,
   "id": "8d225547",
   "metadata": {
    "ExecuteTime": {
     "end_time": "2023-05-12T05:25:15.427960Z",
     "start_time": "2023-05-12T05:25:15.381906Z"
    }
   },
   "outputs": [
    {
     "data": {
      "text/plain": [
       "array([[-1.41421356, -1.22474487],\n",
       "       [-0.70710678, -0.81649658],\n",
       "       [ 0.        ,  0.        ],\n",
       "       [ 0.70710678,  0.40824829],\n",
       "       [ 1.41421356,  1.63299316]])"
      ]
     },
     "execution_count": 30,
     "metadata": {},
     "output_type": "execute_result"
    }
   ],
   "source": [
    "#StandardScaler - 分散正規化のインスタンス\n",
    "from sklearn.preprocessing import StandardScaler\n",
    "\n",
    "#インスタンスを作成→fit、transformで正規化を実行する\n",
    "stdsc = StandardScaler()\n",
    "\n",
    "stdsc.fit(df)\n",
    "stdsc.transform(df)"
   ]
  },
  {
   "cell_type": "code",
   "execution_count": 31,
   "id": "40381912",
   "metadata": {
    "ExecuteTime": {
     "end_time": "2023-05-12T05:25:15.875385Z",
     "start_time": "2023-05-12T05:25:15.846387Z"
    }
   },
   "outputs": [
    {
     "data": {
      "text/plain": [
       "array([[0.        , 0.        ],\n",
       "       [0.25      , 0.14285714],\n",
       "       [0.5       , 0.42857143],\n",
       "       [0.75      , 0.57142857],\n",
       "       [1.        , 1.        ]])"
      ]
     },
     "execution_count": 31,
     "metadata": {},
     "output_type": "execute_result"
    }
   ],
   "source": [
    "#MinMaxScaler - 最大最小正規化のインスタンス\n",
    "from sklearn.preprocessing import MinMaxScaler\n",
    "\n",
    "#インスタンスを作成→fit、transformで正規化を実行する\n",
    "mmsc = MinMaxScaler()\n",
    "\n",
    "mmsc.fit(df)\n",
    "mmsc.transform(df)"
   ]
  },
  {
   "cell_type": "markdown",
   "id": "1e883f2b",
   "metadata": {
    "ExecuteTime": {
     "end_time": "2023-05-12T05:25:56.144089Z",
     "start_time": "2023-05-12T05:25:56.133088Z"
    }
   },
   "source": [
    "## 分類アルゴリズム\n",
    "データをクラスに分類する。大量のデータを分類するには、機械学習の中でも教師あり学習が活用される。\n",
    "ユーザーを利用履歴などをもとに購入層ごと、またはサービスから退会する可能性を予測するのに用いる。\n",
    "\n",
    "- サポートベクターマシン\n",
    "- 決定木\n",
    "- ランダムフォレスト法\n",
    "\n",
    "分類用のモデルを作成するには、まずデータを学習用・テスト用に分割する。\n",
    "機械学習の目的は学習用のデータだけに適応するだけでなく、テスト用のデータのような未知の値に対応する性能（汎化能力）を向上することである。\n",
    "汎化能力を効率よく向上させる方法として、学習・テストデータの分割とモデル構築を複数回繰り返す交差検証が活用されている。\n",
    "\n",
    "今回は有名なirisデータセットを使って分類を行う"
   ]
  },
  {
   "cell_type": "markdown",
   "id": "13feca59",
   "metadata": {
    "ExecuteTime": {
     "end_time": "2023-05-17T05:05:10.913166Z",
     "start_time": "2023-05-17T05:05:10.903164Z"
    }
   },
   "source": [
    "## SVMを用いた分類"
   ]
  },
  {
   "cell_type": "code",
   "execution_count": 2,
   "id": "e813cee0",
   "metadata": {
    "ExecuteTime": {
     "end_time": "2023-05-17T04:48:52.766485Z",
     "start_time": "2023-05-17T04:48:52.749484Z"
    }
   },
   "outputs": [],
   "source": [
    "import numpy as np\n",
    "import pandas as pd\n",
    "from sklearn.datasets import load_iris"
   ]
  },
  {
   "cell_type": "code",
   "execution_count": 4,
   "id": "b16c83ef",
   "metadata": {
    "ExecuteTime": {
     "end_time": "2023-05-17T04:49:18.762387Z",
     "start_time": "2023-05-17T04:49:18.601387Z"
    }
   },
   "outputs": [
    {
     "data": {
      "text/html": [
       "<div>\n",
       "<style scoped>\n",
       "    .dataframe tbody tr th:only-of-type {\n",
       "        vertical-align: middle;\n",
       "    }\n",
       "\n",
       "    .dataframe tbody tr th {\n",
       "        vertical-align: top;\n",
       "    }\n",
       "\n",
       "    .dataframe thead th {\n",
       "        text-align: right;\n",
       "    }\n",
       "</style>\n",
       "<table border=\"1\" class=\"dataframe\">\n",
       "  <thead>\n",
       "    <tr style=\"text-align: right;\">\n",
       "      <th></th>\n",
       "      <th>sepal length (cm)</th>\n",
       "      <th>sepal width (cm)</th>\n",
       "      <th>petal length (cm)</th>\n",
       "      <th>petal width (cm)</th>\n",
       "      <th>target</th>\n",
       "    </tr>\n",
       "  </thead>\n",
       "  <tbody>\n",
       "    <tr>\n",
       "      <th>0</th>\n",
       "      <td>5.1</td>\n",
       "      <td>3.5</td>\n",
       "      <td>1.4</td>\n",
       "      <td>0.2</td>\n",
       "      <td>setosa</td>\n",
       "    </tr>\n",
       "    <tr>\n",
       "      <th>1</th>\n",
       "      <td>4.9</td>\n",
       "      <td>3.0</td>\n",
       "      <td>1.4</td>\n",
       "      <td>0.2</td>\n",
       "      <td>setosa</td>\n",
       "    </tr>\n",
       "    <tr>\n",
       "      <th>2</th>\n",
       "      <td>4.7</td>\n",
       "      <td>3.2</td>\n",
       "      <td>1.3</td>\n",
       "      <td>0.2</td>\n",
       "      <td>setosa</td>\n",
       "    </tr>\n",
       "    <tr>\n",
       "      <th>3</th>\n",
       "      <td>4.6</td>\n",
       "      <td>3.1</td>\n",
       "      <td>1.5</td>\n",
       "      <td>0.2</td>\n",
       "      <td>setosa</td>\n",
       "    </tr>\n",
       "    <tr>\n",
       "      <th>4</th>\n",
       "      <td>5.0</td>\n",
       "      <td>3.6</td>\n",
       "      <td>1.4</td>\n",
       "      <td>0.2</td>\n",
       "      <td>setosa</td>\n",
       "    </tr>\n",
       "  </tbody>\n",
       "</table>\n",
       "</div>"
      ],
      "text/plain": [
       "   sepal length (cm)  sepal width (cm)  petal length (cm)  petal width (cm)  \\\n",
       "0                5.1               3.5                1.4               0.2   \n",
       "1                4.9               3.0                1.4               0.2   \n",
       "2                4.7               3.2                1.3               0.2   \n",
       "3                4.6               3.1                1.5               0.2   \n",
       "4                5.0               3.6                1.4               0.2   \n",
       "\n",
       "   target  \n",
       "0  setosa  \n",
       "1  setosa  \n",
       "2  setosa  \n",
       "3  setosa  \n",
       "4  setosa  "
      ]
     },
     "execution_count": 4,
     "metadata": {},
     "output_type": "execute_result"
    }
   ],
   "source": [
    "# pandasにirisを読み込む(今回は生のデータで読み込む場合から学習)\n",
    "iris = load_iris()\n",
    "df = pd.DataFrame(iris.data, columns=iris.feature_names)\n",
    "df['target'] = iris.target_names[iris.target]\n",
    "df.head()"
   ]
  },
  {
   "cell_type": "code",
   "execution_count": 6,
   "id": "e049abac",
   "metadata": {
    "ExecuteTime": {
     "end_time": "2023-05-17T04:51:43.726175Z",
     "start_time": "2023-05-17T04:51:43.693174Z"
    }
   },
   "outputs": [
    {
     "name": "stdout",
     "output_type": "stream",
     "text": [
      "X:\n",
      "[[5.1 3.5 1.4 0.2]\n",
      " [4.9 3.  1.4 0.2]\n",
      " [4.7 3.2 1.3 0.2]\n",
      " [4.6 3.1 1.5 0.2]\n",
      " [5.  3.6 1.4 0.2]]\n",
      "y:\n",
      "[0 0 0 0 0]\n"
     ]
    }
   ],
   "source": [
    "iris = load_iris()\n",
    "X,y = iris.data, iris.target\n",
    "\n",
    "#説明変数・目的変数の先頭5行を配置する\n",
    "print(\"X:\")\n",
    "print(X[:5, :])\n",
    "print(\"y:\")\n",
    "print(y[:5])"
   ]
  },
  {
   "cell_type": "code",
   "execution_count": 7,
   "id": "df805d64",
   "metadata": {
    "ExecuteTime": {
     "end_time": "2023-05-17T04:52:03.072716Z",
     "start_time": "2023-05-17T04:52:03.055714Z"
    }
   },
   "outputs": [
    {
     "name": "stdout",
     "output_type": "stream",
     "text": [
      "150\n"
     ]
    }
   ],
   "source": [
    "print(len(X))"
   ]
  },
  {
   "cell_type": "code",
   "execution_count": 8,
   "id": "07fde160",
   "metadata": {
    "ExecuteTime": {
     "end_time": "2023-05-17T04:52:13.368707Z",
     "start_time": "2023-05-17T04:52:13.348709Z"
    }
   },
   "outputs": [
    {
     "name": "stdout",
     "output_type": "stream",
     "text": [
      "150\n"
     ]
    }
   ],
   "source": [
    "print(len(y))"
   ]
  },
  {
   "cell_type": "code",
   "execution_count": null,
   "id": "a47ed029",
   "metadata": {},
   "outputs": [],
   "source": [
    "\"\"\"\n",
    "SepalLength - がく（花びらの下のアレ）の長さ\n",
    "SepalWidth - がくの幅\n",
    "PetalLength - 花弁の長さ\n",
    "PetalWidth - 花弁の幅\n",
    "\n",
    "Species - 0-Setosa ,1-Versicolor ,2-Verginica\n",
    "4つの値から、3つのどの品種化を確率的プログラミングと機械学習で分類する\n",
    "\"\"\""
   ]
  },
  {
   "cell_type": "code",
   "execution_count": 10,
   "id": "ba2fe6d0",
   "metadata": {
    "ExecuteTime": {
     "end_time": "2023-05-17T05:00:11.725281Z",
     "start_time": "2023-05-17T05:00:11.705281Z"
    }
   },
   "outputs": [
    {
     "name": "stdout",
     "output_type": "stream",
     "text": [
      "(105, 4)\n",
      "(45, 4)\n",
      "(105,)\n",
      "(45,)\n"
     ]
    }
   ],
   "source": [
    "#train_test_split - 教師あり学習用のデータを学習用・テスト用に分割する\n",
    "from sklearn.model_selection import train_test_split\n",
    "X_train, X_test, y_train, y_test = train_test_split(X,y,test_size=0.3, random_state=123)\n",
    "\n",
    "#分割後のサイズ・形状を確認する\n",
    "print(X_train.shape)\n",
    "print(X_test.shape)\n",
    "print(y_train.shape)\n",
    "print(y_test.shape)"
   ]
  },
  {
   "cell_type": "code",
   "execution_count": null,
   "id": "52af253b",
   "metadata": {},
   "outputs": [],
   "source": [
    "#サポートベクターマシーン(SVM) - 教師あり学習の分類・回帰に使えるアルゴリズム。\n",
    "#SVMは直線・平面などで分類できない（＝線形分離できない）データを分類することができる。\n",
    "#高次元空間でのデータの内積＝距離を計算することで、データを高次元の空間上で線形分離するというタスクを要する"
   ]
  },
  {
   "cell_type": "code",
   "execution_count": 15,
   "id": "c8c676ee",
   "metadata": {
    "ExecuteTime": {
     "end_time": "2023-05-17T05:12:38.154251Z",
     "start_time": "2023-05-17T05:12:37.113312Z"
    }
   },
   "outputs": [
    {
     "ename": "AttributeError",
     "evalue": "'Axes' object has no attribute 'set_xyabel'",
     "output_type": "error",
     "traceback": [
      "\u001b[1;31m---------------------------------------------------------------------------\u001b[0m",
      "\u001b[1;31mAttributeError\u001b[0m                            Traceback (most recent call last)",
      "Cell \u001b[1;32mIn[15], line 21\u001b[0m\n\u001b[0;32m     18\u001b[0m ax\u001b[38;5;241m.\u001b[39mscatter(X1[:,\u001b[38;5;241m0\u001b[39m], X1[:,\u001b[38;5;241m1\u001b[39m], marker\u001b[38;5;241m=\u001b[39m\u001b[38;5;124m\"\u001b[39m\u001b[38;5;124mx\u001b[39m\u001b[38;5;124m\"\u001b[39m, label\u001b[38;5;241m=\u001b[39m\u001b[38;5;124m\"\u001b[39m\u001b[38;5;124mClass-0\u001b[39m\u001b[38;5;124m\"\u001b[39m)\n\u001b[0;32m     20\u001b[0m ax\u001b[38;5;241m.\u001b[39mset_xlabel(\u001b[38;5;124m\"\u001b[39m\u001b[38;5;124mx\u001b[39m\u001b[38;5;124m\"\u001b[39m)\n\u001b[1;32m---> 21\u001b[0m \u001b[43max\u001b[49m\u001b[38;5;241;43m.\u001b[39;49m\u001b[43mset_xyabel\u001b[49m(\u001b[38;5;124m\"\u001b[39m\u001b[38;5;124my\u001b[39m\u001b[38;5;124m\"\u001b[39m)\n\u001b[0;32m     22\u001b[0m ax\u001b[38;5;241m.\u001b[39mlegend()\n\u001b[0;32m     23\u001b[0m pltt\u001b[38;5;241m.\u001b[39mshow()\n",
      "\u001b[1;31mAttributeError\u001b[0m: 'Axes' object has no attribute 'set_xyabel'"
     ]
    },
    {
     "data": {
      "image/png": "[encoded data removed]",
      "text/plain": [
       "<Figure size 640x480 with 1 Axes>"
      ]
     },
     "metadata": {},
     "output_type": "display_data"
    }
   ],
   "source": [
    "#SVM\n",
    "import numpy as np\n",
    "import matplotlib.pyplot as plt\n",
    "\n",
    "#乱数シード\n",
    "rng = np.random.default_rng(123)\n",
    "\n",
    "#一様乱数とそのラベルを生成\n",
    "X0 = rng.uniform(size =(100, 2))\n",
    "y0 = np.repeat(0, 100)\n",
    "\n",
    "X1 = rng.uniform(-1, 0, size =(100, 2))\n",
    "y1 = np.repeat(1, 100)\n",
    "\n",
    "#乱数をプロット\n",
    "fig, ax = plt.subplots()\n",
    "ax.scatter(X0[:,0], X0[:,1], marker=\"o\", label=\"Class-0\")\n",
    "ax.scatter(X1[:,0], X1[:,1], marker=\"x\", label=\"Class-0\")\n",
    "\n",
    "ax.set_xlabel(\"x\")\n",
    "ax.set_xyabel(\"y\")\n",
    "ax.legend()\n",
    "pltt.show()"
   ]
  },
  {
   "cell_type": "code",
   "execution_count": null,
   "id": "c9af6ec2",
   "metadata": {},
   "outputs": [],
   "source": [
    "#SVMの決定境界・マージン・サポートベクターを求める\n",
    "from sklearn.svm import SVC\n",
    "\n",
    "def plot_boundary_margin(X0, y0, X1, y1, kernel, C, xmin = -1, xmax = 1, ymin = -1, ymax = 1):\n",
    "    #SVMのインスタンス\n",
    "    svc= "
   ]
  },
  {
   "cell_type": "code",
   "execution_count": null,
   "id": "ce297c4f",
   "metadata": {},
   "outputs": [],
   "source": []
  },
  {
   "cell_type": "code",
   "execution_count": null,
   "id": "6eeb03af",
   "metadata": {},
   "outputs": [],
   "source": []
  }
 ],
 "metadata": {
  "hide_input": false,
  "kernelspec": {
   "display_name": "Python 3 (ipykernel)",
   "language": "python",
   "name": "python3"
  },
  "language_info": {
   "codemirror_mode": {
    "name": "ipython",
    "version": 3
   },
   "file_extension": ".py",
   "mimetype": "text/x-python",
   "name": "python",
   "nbconvert_exporter": "python",
   "pygments_lexer": "ipython3",
   "version": "3.10.9"
  },
  "nbTranslate": {
   "displayLangs": [
    "*"
   ],
   "hotkey": "alt-t",
   "langInMainMenu": true,
   "sourceLang": "en",
   "targetLang": "fr",
   "useGoogleTranslate": true
  },
  "notify_time": "30",
  "toc": {
   "base_numbering": 1,
   "nav_menu": {},
   "number_sections": true,
   "sideBar": true,
   "skip_h1_title": false,
   "title_cell": "Table of Contents",
   "title_sidebar": "Contents",
   "toc_cell": false,
   "toc_position": {},
   "toc_section_display": true,
   "toc_window_display": false
  },
  "varInspector": {
   "cols": {
    "lenName": 16,
    "lenType": 16,
    "lenVar": 40
   },
   "kernels_config": {
    "python": {
     "delete_cmd_postfix": "",
     "delete_cmd_prefix": "del ",
     "library": "var_list.py",
     "varRefreshCmd": "print(var_dic_list())"
    },
    "r": {
     "delete_cmd_postfix": ") ",
     "delete_cmd_prefix": "rm(",
     "library": "var_list.r",
     "varRefreshCmd": "cat(var_dic_list()) "
    }
   },
   "types_to_exclude": [
    "module",
    "function",
    "builtin_function_or_method",
    "instance",
    "_Feature"
   ],
   "window_display": false
  }
 },
 "nbformat": 4,
 "nbformat_minor": 5
}
