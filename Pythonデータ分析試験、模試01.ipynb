{
 "cells": [
  {
   "cell_type": "markdown",
   "id": "a8234c5e",
   "metadata": {},
   "source": [
    "# Pythonデータ分析試験の模擬内容を復習\n",
    "間違えたコードはどう動作するかを実際にチェックする"
   ]
  },
  {
   "cell_type": "markdown",
   "id": "fd4c5529",
   "metadata": {},
   "source": [
    "# 模試01"
   ]
  },
  {
   "cell_type": "markdown",
   "id": "5d47307c",
   "metadata": {},
   "source": [
    "## 1. Pythonの得意分野\n",
    "データ分析に利用されるプログラミング言語には、Python、R、Julia、Excel、Visual Basic for Applicationsなどがある\n",
    "→正しい。間違っていたのはこっち：\n",
    "\n",
    "Pythonはデータ分析以外の分野でも活用されており、Webアプリなどのフロントエンド、速度向上のための低レイヤー処理などの分野においても他のプログラミング言語に比して優位性が高い\n",
    "\n",
    "→PythonはWebアプリのフロント、低レイヤー処理には適していない。\n",
    "フロントエンドはJavaScriptやFlutter、低レイヤー処理はC言語の方が向いている。"
   ]
  },
  {
   "cell_type": "markdown",
   "id": "f0ad4012",
   "metadata": {},
   "source": [
    "## 5. 正規表現\n",
    "次の正規表現を用いたスクリプトの[ ア ]の部分に入れたときエラーと表示されるものはどれか。\n",
    "\n",
    "import re\n",
    "prog = re.compile(r'py?(th|ers)oni?(a[lmn]|c)?', re.IGNORECASE)\n",
    "[ ア ]\n",
    "if ret is None:\n",
    "    print('エラー')\n",
    "else:\n",
    "    print(ret[0])\n",
    "\n",
    "✕ret = prog.search('The Zen of Python')\n",
    "Correct Answer: ret = prog.search('pythomian')\n",
    "\n",
    "→コードを実際に実行・教科書に載っている正規表現を復習する。"
   ]
  },
  {
   "cell_type": "code",
   "execution_count": 1,
   "id": "6b6038ea",
   "metadata": {},
   "outputs": [
    {
     "name": "stdout",
     "output_type": "stream",
     "text": [
      "エラー\n"
     ]
    }
   ],
   "source": [
    "import re\n",
    "\n",
    "#retに一致する正規表現がprogにあるかを検索する。正規表現はパターンに位置する文字列があるかを検索できる\n",
    "prog = re.compile(r'py?(th|ers)oni?(a[lmn]|c)?', re.IGNORECASE)\n",
    "ret = prog.search('pythomian')\n",
    "\n",
    "#一致する正規表現がない場合のみエラーと表示\n",
    "if ret is None:\n",
    "    print('エラー')\n",
    "else:\n",
    "    print(ret[0])"
   ]
  },
  {
   "cell_type": "code",
   "execution_count": 2,
   "id": "e1c671b3",
   "metadata": {},
   "outputs": [
    {
     "name": "stdout",
     "output_type": "stream",
     "text": [
      "Python\n"
     ]
    }
   ],
   "source": [
    "import re\n",
    "prog = re.compile(r'py?(th|ers)oni?(a[lmn]|c)?', re.IGNORECASE)\n",
    "ret = prog.search('The Zen of Python')\n",
    "if ret is None:\n",
    "    print('エラー')\n",
    "else:\n",
    "    print(ret[0])"
   ]
  },
  {
   "cell_type": "markdown",
   "id": "8610f573",
   "metadata": {},
   "source": [
    "## 6. モジュールに関する次の記述のうち誤っているもの(logging, pickle)\n",
    "Answer Provided:\n",
    "✕loggingモジュールはログレベルを指定して任意のファイルにフォーマットを指定してログの出力を行うことができ、たとえば、バッチ処理などの途中経過を出力する用途に用いる。\n",
    "\n",
    "\n",
    "Correct Answer: pickleモジュールは、Pythonのオブジェクトをシリアライズしてファイルなどで読み書きできるようにすることができ、標準出力をバッファリングして制御するために便利である。\n",
    "\n",
    "→loggingモジュールはログの出力を、pickleモジュールは変換したバイト列をファイルに保存したりする等のバイナリデータ化・バイナリデータからのpythonオブジェクトの復元等々を行える。「標準出力をバッファリングして制御...」というのが間違い。\n",
    "\n",
    "loggingモジュール - ログの出力\n",
    "pickleモジュール - バイナリデータ化・バイナリデータからのpythonオブジェクトの復元\n",
    "\n",
    "https://www.sejuku.net/blog/23149"
   ]
  },
  {
   "cell_type": "code",
   "execution_count": 3,
   "id": "58973ef1",
   "metadata": {},
   "outputs": [
    {
     "name": "stderr",
     "output_type": "stream",
     "text": [
      "warning\n",
      "test\n"
     ]
    }
   ],
   "source": [
    "#loggingの使い方\n",
    "import logging\n",
    " \n",
    "# ログの出力名を設定（1）\n",
    "logger = logging.getLogger('LoggingTest')\n",
    " \n",
    "# ログをコンソール出力するための設定（2）\n",
    "sh = logging.StreamHandler()\n",
    "logger.addHandler(sh)\n",
    " \n",
    "# log関数でログ出力処理（3）\n",
    "logger.log(20, 'info')\n",
    "logger.log(30, 'warning')\n",
    "logger.log(100, 'test')"
   ]
  },
  {
   "cell_type": "markdown",
   "id": "7a2af351",
   "metadata": {},
   "source": [
    "## 7. Jupyter Notebookに関する次の記述のうち誤っているもの\n",
    "Answer Provided:\n",
    "✕Jupyter Notebookはオープンソースで開発されているデータ分析、可視化、機械学習などに広く利用されているWebアプリケーションである。\n",
    "\n",
    "Correct Answer: NotebookファイルはYAML形式で記述されており、プログラムや結果を参照するためには基本的にはJupyter Notebookを実行する必要があるが、yumなどのリポジトリサービスはNotebookファイルの表示に対応しているため、これらを利用して参照することができる。\n",
    "\n",
    "→JupyterNotebookはオープンソース、かつデータ分析ができてWebアプリケーションであるというのを覚えておく。 Notebookファイルは.iynbファイルなので、そこが間違っている\n"
   ]
  },
  {
   "cell_type": "markdown",
   "id": "a22861d2",
   "metadata": {},
   "source": [
    "## 8. 数学の基礎に関する次の記述のうち誤っているもの（ネイピア数、三角関数）\n",
    "Answer Provided:\n",
    "✕直径が1のときの円周の長さを円周率と呼び、自然対数の底をネイピア数と呼ぶ。両者とも小数点以下を四捨五入すると3になる。\n",
    "\n",
    "Correct Answer: 三角関数のsinは「サイン」と読み、日本語では上弦という呼び名がある。また、cosは「コサイン」と読み、日本語では下弦という呼び名がある。\n",
    "\n",
    "→ネイピア数は約2.718… なので内容は合っていた。\n",
    "sinは上弦、cosは下弦というのが間違い。"
   ]
  },
  {
   "cell_type": "markdown",
   "id": "75f2f4f3",
   "metadata": {},
   "source": [
    "## 11. 右辺が6x^2（6掛けるxの二乗）で表現される関数をf(x)とする。微分積分に関する以下の記述のうち誤っているもの\n",
    "Answer Provided:\n",
    "✕微分は傾き、積分は面積と捉えることができる。データ分析や機械学習において、関数の傾きが0となる点は有益な情報として利用される。\n",
    "Correct Answer: 関数f(x)を積分すると、右辺は3x^3となる。\n",
    "→xのn乗の積分公式を再チェック。正解は2x^3。データ分析や機械学習において、関数の傾きが0となる点は有益な情報とみなされる。"
   ]
  },
  {
   "cell_type": "markdown",
   "id": "8d2976a5",
   "metadata": {},
   "source": [
    "## 14. NumPyに関する次の記述のうち、誤っているもの(1次元ベクトルに変換)\n",
    "Answer Provided:\n",
    "✕NumPyは配列や行列を効率よく扱うためのPythonのサードパーティ製パッケージで、配列用の型であるndarrayと行列用の型であるmatrixがある。\n",
    "\n",
    "\n",
    "Correct Answer: NumPy配列の次元変換に用いるravelメソッドはコピーを返し、flattenメソッドは参照を返す。\n",
    "\n",
    "→配列・行列のデータ型に関する記述は正しい。ravel()とflatten()の違いはravel()は可能な限り参照を返すが、flatten()は常にコピーを返すこと。「フラットなコピー」と覚えておく。\n",
    "\n",
    "https://note.nkmk.me/python-numpy-ravel-flatten/"
   ]
  },
  {
   "cell_type": "code",
   "execution_count": 11,
   "id": "ee34a60c",
   "metadata": {},
   "outputs": [
    {
     "name": "stdout",
     "output_type": "stream",
     "text": [
      "[[ 0  1  2  3]\n",
      " [ 4  5  6  7]\n",
      " [ 8  9 10 11]]\n",
      "[ 0  1  2  3  4  5  6  7  8  9 10 11]\n",
      "<class 'numpy.ndarray'>\n"
     ]
    }
   ],
   "source": [
    "import numpy as np\n",
    "\n",
    "a = np.arange(12).reshape(3, 4)\n",
    "print(a)\n",
    "\n",
    "#ravel - 1次元ベクトルに変換\n",
    "print(np.ravel(a))\n",
    "print(type(np.ravel(a)))"
   ]
  },
  {
   "cell_type": "code",
   "execution_count": 12,
   "id": "b1a28e68",
   "metadata": {},
   "outputs": [
    {
     "name": "stdout",
     "output_type": "stream",
     "text": [
      "[ 0  1  2  3  4  5  6  7  8  9 10 11]\n"
     ]
    }
   ],
   "source": [
    "# flatten()は常にコピーを返す\n",
    "# flatten()はメモリを新たに確保する必要があるため、ravel()よりも遅い\n",
    "print(a.flatten())"
   ]
  },
  {
   "cell_type": "code",
   "execution_count": 13,
   "id": "6d3f0c1f",
   "metadata": {},
   "outputs": [
    {
     "name": "stdout",
     "output_type": "stream",
     "text": [
      "[ 0  1  2  3  4  5  6  7  8  9 10 11]\n"
     ]
    }
   ],
   "source": [
    "# shapeを変換するreshape()を利用して一次元化することもできる。-1を使うと自動で次元に変換できる。\n",
    "print(a.reshape(-1))"
   ]
  },
  {
   "cell_type": "markdown",
   "id": "9aaba42f",
   "metadata": {},
   "source": [
    "## 15. 実行した結果として正しいもの( インデックスとスライス )\n",
    "\n",
    "import numpy as np\n",
    "a = np.array([[1, 2, 3], [4, 5, 6]])\n",
    "b = np.array([1, 2, 3])\n",
    "print(a[-1:, [1, 2]], b.dtype)\n",
    "\n",
    "Answer Provided:\n",
    "✕[[1 2], [4 5]] int16\n",
    "\n",
    "→ -1で末尾の要素を、[1,2]で2番目・3番目の要素を指定している。\n",
    "スライスの書き方について復習しておく。"
   ]
  },
  {
   "cell_type": "code",
   "execution_count": 14,
   "id": "14cf579e",
   "metadata": {},
   "outputs": [
    {
     "name": "stdout",
     "output_type": "stream",
     "text": [
      "[[5 6]] int32\n"
     ]
    }
   ],
   "source": [
    "import numpy as np\n",
    "a = np.array([[1, 2, 3], [4, 5, 6]])\n",
    "b = np.array([1, 2, 3])\n",
    "print(a[-1:, [1, 2]], b.dtype)"
   ]
  },
  {
   "cell_type": "markdown",
   "id": "5a42dfea",
   "metadata": {},
   "source": [
    "## 20.スクリプトを実行して10を出力させる(Pandasデータフレーム)\n",
    "\n",
    "import pandas as pd\n",
    "df = pd.DataFrame([[15, \"a\", True],[20, \"b\", False],[10, \"c\", False]])\n",
    "df.index = [\"01\", \"02\", \"03\"]\n",
    "df.columns = [\"A\", \"B\", \"C\"]\n",
    "[ア]\n",
    "print(a)\n",
    "\n",
    "Answer Provided:\n",
    "✕a = df.loc[\"03\", \"A\"] または a = df.iloc[3, 1]\n",
    "\n",
    "Correct Answer: a = df.loc[\"03\", \"A\"] または a = df.iloc[2, 0]\n",
    "\n",
    "→最初の引数はデータのy方向を、2つ目がx方向を参照する。\n",
    "　直感的に「xが先」と思い込みやすいので注意。"
   ]
  },
  {
   "cell_type": "code",
   "execution_count": 16,
   "id": "7ec3269a",
   "metadata": {},
   "outputs": [
    {
     "ename": "IndexError",
     "evalue": "index 3 is out of bounds for axis 0 with size 3",
     "output_type": "error",
     "traceback": [
      "\u001b[1;31m---------------------------------------------------------------------------\u001b[0m",
      "\u001b[1;31mIndexError\u001b[0m                                Traceback (most recent call last)",
      "Cell \u001b[1;32mIn[16], line 5\u001b[0m\n\u001b[0;32m      3\u001b[0m df\u001b[38;5;241m.\u001b[39mindex \u001b[38;5;241m=\u001b[39m [\u001b[38;5;124m\"\u001b[39m\u001b[38;5;124m01\u001b[39m\u001b[38;5;124m\"\u001b[39m, \u001b[38;5;124m\"\u001b[39m\u001b[38;5;124m02\u001b[39m\u001b[38;5;124m\"\u001b[39m, \u001b[38;5;124m\"\u001b[39m\u001b[38;5;124m03\u001b[39m\u001b[38;5;124m\"\u001b[39m]\n\u001b[0;32m      4\u001b[0m df\u001b[38;5;241m.\u001b[39mcolumns \u001b[38;5;241m=\u001b[39m [\u001b[38;5;124m\"\u001b[39m\u001b[38;5;124mA\u001b[39m\u001b[38;5;124m\"\u001b[39m, \u001b[38;5;124m\"\u001b[39m\u001b[38;5;124mB\u001b[39m\u001b[38;5;124m\"\u001b[39m, \u001b[38;5;124m\"\u001b[39m\u001b[38;5;124mC\u001b[39m\u001b[38;5;124m\"\u001b[39m]\n\u001b[1;32m----> 5\u001b[0m a \u001b[38;5;241m=\u001b[39m \u001b[43mdf\u001b[49m\u001b[38;5;241;43m.\u001b[39;49m\u001b[43miloc\u001b[49m\u001b[43m[\u001b[49m\u001b[38;5;241;43m3\u001b[39;49m\u001b[43m,\u001b[49m\u001b[43m \u001b[49m\u001b[38;5;241;43m1\u001b[39;49m\u001b[43m]\u001b[49m\n\u001b[0;32m      6\u001b[0m \u001b[38;5;28mprint\u001b[39m(a)\n",
      "File \u001b[1;32m~\\anaconda3\\lib\\site-packages\\pandas\\core\\indexing.py:1066\u001b[0m, in \u001b[0;36m_LocationIndexer.__getitem__\u001b[1;34m(self, key)\u001b[0m\n\u001b[0;32m   1064\u001b[0m     key \u001b[38;5;241m=\u001b[39m \u001b[38;5;28mtuple\u001b[39m(com\u001b[38;5;241m.\u001b[39mapply_if_callable(x, \u001b[38;5;28mself\u001b[39m\u001b[38;5;241m.\u001b[39mobj) \u001b[38;5;28;01mfor\u001b[39;00m x \u001b[38;5;129;01min\u001b[39;00m key)\n\u001b[0;32m   1065\u001b[0m     \u001b[38;5;28;01mif\u001b[39;00m \u001b[38;5;28mself\u001b[39m\u001b[38;5;241m.\u001b[39m_is_scalar_access(key):\n\u001b[1;32m-> 1066\u001b[0m         \u001b[38;5;28;01mreturn\u001b[39;00m \u001b[38;5;28;43mself\u001b[39;49m\u001b[38;5;241;43m.\u001b[39;49m\u001b[43mobj\u001b[49m\u001b[38;5;241;43m.\u001b[39;49m\u001b[43m_get_value\u001b[49m\u001b[43m(\u001b[49m\u001b[38;5;241;43m*\u001b[39;49m\u001b[43mkey\u001b[49m\u001b[43m,\u001b[49m\u001b[43m \u001b[49m\u001b[43mtakeable\u001b[49m\u001b[38;5;241;43m=\u001b[39;49m\u001b[38;5;28;43mself\u001b[39;49m\u001b[38;5;241;43m.\u001b[39;49m\u001b[43m_takeable\u001b[49m\u001b[43m)\u001b[49m\n\u001b[0;32m   1067\u001b[0m     \u001b[38;5;28;01mreturn\u001b[39;00m \u001b[38;5;28mself\u001b[39m\u001b[38;5;241m.\u001b[39m_getitem_tuple(key)\n\u001b[0;32m   1068\u001b[0m \u001b[38;5;28;01melse\u001b[39;00m:\n\u001b[0;32m   1069\u001b[0m     \u001b[38;5;66;03m# we by definition only have the 0th axis\u001b[39;00m\n",
      "File \u001b[1;32m~\\anaconda3\\lib\\site-packages\\pandas\\core\\frame.py:3915\u001b[0m, in \u001b[0;36mDataFrame._get_value\u001b[1;34m(self, index, col, takeable)\u001b[0m\n\u001b[0;32m   3913\u001b[0m \u001b[38;5;28;01mif\u001b[39;00m takeable:\n\u001b[0;32m   3914\u001b[0m     series \u001b[38;5;241m=\u001b[39m \u001b[38;5;28mself\u001b[39m\u001b[38;5;241m.\u001b[39m_ixs(col, axis\u001b[38;5;241m=\u001b[39m\u001b[38;5;241m1\u001b[39m)\n\u001b[1;32m-> 3915\u001b[0m     \u001b[38;5;28;01mreturn\u001b[39;00m \u001b[43mseries\u001b[49m\u001b[38;5;241;43m.\u001b[39;49m\u001b[43m_values\u001b[49m\u001b[43m[\u001b[49m\u001b[43mindex\u001b[49m\u001b[43m]\u001b[49m\n\u001b[0;32m   3917\u001b[0m series \u001b[38;5;241m=\u001b[39m \u001b[38;5;28mself\u001b[39m\u001b[38;5;241m.\u001b[39m_get_item_cache(col)\n\u001b[0;32m   3918\u001b[0m engine \u001b[38;5;241m=\u001b[39m \u001b[38;5;28mself\u001b[39m\u001b[38;5;241m.\u001b[39mindex\u001b[38;5;241m.\u001b[39m_engine\n",
      "\u001b[1;31mIndexError\u001b[0m: index 3 is out of bounds for axis 0 with size 3"
     ]
    }
   ],
   "source": [
    "import pandas as pd\n",
    "df = pd.DataFrame([[15, \"a\", True],[20, \"b\", False],[10, \"c\", False]])\n",
    "df.index = [\"01\", \"02\", \"03\"]\n",
    "df.columns = [\"A\", \"B\", \"C\"]\n",
    "a = df.iloc[3, 1]\n",
    "print(a)"
   ]
  },
  {
   "cell_type": "code",
   "execution_count": 17,
   "id": "85fd1c24",
   "metadata": {},
   "outputs": [
    {
     "name": "stdout",
     "output_type": "stream",
     "text": [
      "10\n"
     ]
    }
   ],
   "source": [
    "import pandas as pd\n",
    "df = pd.DataFrame([[15, \"a\", True],[20, \"b\", False],[10, \"c\", False]])\n",
    "df.index = [\"01\", \"02\", \"03\"]\n",
    "df.columns = [\"A\", \"B\", \"C\"]\n",
    "a = df.iloc[2, 0]\n",
    "print(a)"
   ]
  },
  {
   "cell_type": "markdown",
   "id": "bb2fede7",
   "metadata": {},
   "source": [
    "## 22.スクリプトを実行した結果(Pandasデータフレーム)\n",
    "import pandas as pd\n",
    "df = pd.DataFrame([[40, \"a\", True],[20, \"b\", False],[30, \"c\", False]])\n",
    "df.index = [\"01\", \"02\", \"03\"]\n",
    "df.columns = [\"A\", \"B\", \"C\"]\n",
    "\n",
    "def judge(arg):\n",
    "    if arg < 50:\n",
    "        return \"low\"\n",
    "    elif arg < 70:\n",
    "        return \"middle\"\n",
    "    else:\n",
    "        return \"high\"\n",
    "\n",
    "df.loc[:, \"C\"] = df.iloc[:, 0] * 2\n",
    "df.loc[:, \"B\"] = df.iloc[:, 2].apply(judge)\n",
    "_ = df[\"C\"] > 50\n",
    "df = df[_]\n",
    "print(df.iloc[0 , 0], df.iloc[1 ,1])\n",
    "\n",
    "Answer Provided:\n",
    "✕40 high\n",
    "\n",
    "Correct Answer: 40 middle"
   ]
  },
  {
   "cell_type": "code",
   "execution_count": 18,
   "id": "f408312e",
   "metadata": {},
   "outputs": [
    {
     "name": "stdout",
     "output_type": "stream",
     "text": [
      "40 middle\n"
     ]
    }
   ],
   "source": [
    "import pandas as pd\n",
    "df = pd.DataFrame([[40, \"a\", True],[20, \"b\", False],[30, \"c\", False]])\n",
    "df.index = [\"01\", \"02\", \"03\"]\n",
    "df.columns = [\"A\", \"B\", \"C\"]\n",
    "\n",
    "def judge(arg):\n",
    "    if arg < 50:\n",
    "        return \"low\"\n",
    "    elif arg < 70:\n",
    "        return \"middle\"\n",
    "    else:\n",
    "        return \"high\"\n",
    "\n",
    "df.loc[:, \"C\"] = df.iloc[:, 0] * 2\n",
    "df.loc[:, \"B\"] = df.iloc[:, 2].apply(judge)\n",
    "_ = df[\"C\"] > 50\n",
    "df = df[_]\n",
    "print(df.iloc[0 , 0], df.iloc[1 ,1])"
   ]
  },
  {
   "cell_type": "markdown",
   "id": "a71f9517",
   "metadata": {},
   "source": [
    "# 23. スクリプトに関する説明のうち誤っているもの（Randint）\n",
    "\n",
    "import numpy as np\n",
    "import pandas as pd\n",
    "np.random.seed(123)\n",
    "dates = pd.date_range(start=\"2017-04-01\", periods=365)\n",
    "df = pd.DataFrame(np.random.randint(1, 31, 365), index=dates, columns=[\"rand\"])\n",
    "df_year = pd.DataFrame(df.groupby(pd.Grouper(freq='W-SAT')).sum(), columns=[\"rand\"])\n",
    "\n",
    "Answer Provided:\n",
    "✕4行目は、2017年4月1日から365日分の日付の配列を生成する処理である。periods=365 を end=\"2018-03-31\" としても同じ結果となる。\n",
    "\n",
    "Correct Answer: 5行目は、日付をインデックスとするDataFrameを作成している。rand列の各値は、1から31までのランダムな整数となる。\n",
    "\n",
    "→ np.random.randint(1, 31, 365)は1~30の値の乱数を365個生成する。ひっかけ問題。\n"
   ]
  },
  {
   "cell_type": "code",
   "execution_count": 19,
   "id": "4d3eddb8",
   "metadata": {},
   "outputs": [
    {
     "name": "stdout",
     "output_type": "stream",
     "text": [
      "(365, 1)\n"
     ]
    }
   ],
   "source": [
    "import numpy as np\n",
    "import pandas as pd\n",
    "np.random.seed(123)\n",
    "dates = pd.date_range(start=\"2017-04-01\", periods=365)\n",
    "df = pd.DataFrame(np.random.randint(1, 31, 365), index=dates, columns=[\"rand\"])\n",
    "df_year = pd.DataFrame(df.groupby(pd.Grouper(freq='W-SAT')).sum(), columns=[\"rand\"])\n",
    "\n",
    "print(df.shape)"
   ]
  },
  {
   "cell_type": "code",
   "execution_count": 20,
   "id": "00212ab8",
   "metadata": {},
   "outputs": [
    {
     "data": {
      "text/plain": [
       "<bound method NDFrame.head of             rand\n",
       "2017-04-01    14\n",
       "2017-04-02     3\n",
       "2017-04-03    29\n",
       "2017-04-04     3\n",
       "2017-04-05     7\n",
       "...          ...\n",
       "2018-03-27    22\n",
       "2018-03-28     5\n",
       "2018-03-29    22\n",
       "2018-03-30     1\n",
       "2018-03-31     8\n",
       "\n",
       "[365 rows x 1 columns]>"
      ]
     },
     "execution_count": 20,
     "metadata": {},
     "output_type": "execute_result"
    }
   ],
   "source": [
    "df.head"
   ]
  },
  {
   "cell_type": "markdown",
   "id": "77a2620d",
   "metadata": {},
   "source": [
    "## 24. DataFrameの欠損値の処理に関する次の記述のうち誤っているもの\n",
    "Answer Provided:\n",
    "✕欠損値が存在する行や列を削除するメソッドは、dropnaである。\n",
    "\n",
    "Correct Answer: fillnaメソッドの引数にmethod='median'を与えると、欠損値を中央値で補完する。\n",
    "\n",
    "→引数の指定の仕方が間違い。用復習\n",
    "　中央値はdf_202205.fillna(df_202205.mean())という形で引数に形式を指定するのではなく、fillnaの引数にして生成する"
   ]
  },
  {
   "cell_type": "code",
   "execution_count": 25,
   "id": "fd4ca90b",
   "metadata": {},
   "outputs": [
    {
     "data": {
      "text/html": [
       "<div>\n",
       "<style scoped>\n",
       "    .dataframe tbody tr th:only-of-type {\n",
       "        vertical-align: middle;\n",
       "    }\n",
       "\n",
       "    .dataframe tbody tr th {\n",
       "        vertical-align: top;\n",
       "    }\n",
       "\n",
       "    .dataframe thead th {\n",
       "        text-align: right;\n",
       "    }\n",
       "</style>\n",
       "<table border=\"1\" class=\"dataframe\">\n",
       "  <thead>\n",
       "    <tr style=\"text-align: right;\">\n",
       "      <th></th>\n",
       "      <th>歩数</th>\n",
       "      <th>摂取カロリー</th>\n",
       "    </tr>\n",
       "    <tr>\n",
       "      <th>日付</th>\n",
       "      <th></th>\n",
       "      <th></th>\n",
       "    </tr>\n",
       "  </thead>\n",
       "  <tbody>\n",
       "    <tr>\n",
       "      <th>2022-05-01</th>\n",
       "      <td>1439.0</td>\n",
       "      <td>4500.0</td>\n",
       "    </tr>\n",
       "    <tr>\n",
       "      <th>2022-05-02</th>\n",
       "      <td>8120.0</td>\n",
       "      <td>2420.0</td>\n",
       "    </tr>\n",
       "    <tr>\n",
       "      <th>2022-05-03</th>\n",
       "      <td>NaN</td>\n",
       "      <td>NaN</td>\n",
       "    </tr>\n",
       "    <tr>\n",
       "      <th>2022-05-04</th>\n",
       "      <td>2329.0</td>\n",
       "      <td>1500.0</td>\n",
       "    </tr>\n",
       "    <tr>\n",
       "      <th>2022-05-05</th>\n",
       "      <td>NaN</td>\n",
       "      <td>NaN</td>\n",
       "    </tr>\n",
       "  </tbody>\n",
       "</table>\n",
       "</div>"
      ],
      "text/plain": [
       "                歩数  摂取カロリー\n",
       "日付                        \n",
       "2022-05-01  1439.0  4500.0\n",
       "2022-05-02  8120.0  2420.0\n",
       "2022-05-03     NaN     NaN\n",
       "2022-05-04  2329.0  1500.0\n",
       "2022-05-05     NaN     NaN"
      ]
     },
     "execution_count": 25,
     "metadata": {},
     "output_type": "execute_result"
    }
   ],
   "source": [
    "#欠損値-NaNを処理する方法を覚える\n",
    "import numpy as np\n",
    "import pandas as pd\n",
    "\n",
    "df_202205 = pd.read_csv(\"202205health.csv\", encoding=\"utf-8\", index_col=\"日付\", parse_dates=True)\n",
    "df_202205.head()"
   ]
  },
  {
   "cell_type": "code",
   "execution_count": 26,
   "id": "7f754812",
   "metadata": {},
   "outputs": [
    {
     "data": {
      "text/html": [
       "<div>\n",
       "<style scoped>\n",
       "    .dataframe tbody tr th:only-of-type {\n",
       "        vertical-align: middle;\n",
       "    }\n",
       "\n",
       "    .dataframe tbody tr th {\n",
       "        vertical-align: top;\n",
       "    }\n",
       "\n",
       "    .dataframe thead th {\n",
       "        text-align: right;\n",
       "    }\n",
       "</style>\n",
       "<table border=\"1\" class=\"dataframe\">\n",
       "  <thead>\n",
       "    <tr style=\"text-align: right;\">\n",
       "      <th></th>\n",
       "      <th>歩数</th>\n",
       "      <th>摂取カロリー</th>\n",
       "    </tr>\n",
       "    <tr>\n",
       "      <th>日付</th>\n",
       "      <th></th>\n",
       "      <th></th>\n",
       "    </tr>\n",
       "  </thead>\n",
       "  <tbody>\n",
       "    <tr>\n",
       "      <th>2022-05-01</th>\n",
       "      <td>1439.000000</td>\n",
       "      <td>4500.000000</td>\n",
       "    </tr>\n",
       "    <tr>\n",
       "      <th>2022-05-02</th>\n",
       "      <td>8120.000000</td>\n",
       "      <td>2420.000000</td>\n",
       "    </tr>\n",
       "    <tr>\n",
       "      <th>2022-05-03</th>\n",
       "      <td>5645.714286</td>\n",
       "      <td>2388.571429</td>\n",
       "    </tr>\n",
       "    <tr>\n",
       "      <th>2022-05-04</th>\n",
       "      <td>2329.000000</td>\n",
       "      <td>1500.000000</td>\n",
       "    </tr>\n",
       "    <tr>\n",
       "      <th>2022-05-05</th>\n",
       "      <td>5645.714286</td>\n",
       "      <td>2388.571429</td>\n",
       "    </tr>\n",
       "    <tr>\n",
       "      <th>2022-05-06</th>\n",
       "      <td>3233.000000</td>\n",
       "      <td>1800.000000</td>\n",
       "    </tr>\n",
       "    <tr>\n",
       "      <th>2022-05-07</th>\n",
       "      <td>9593.000000</td>\n",
       "      <td>2200.000000</td>\n",
       "    </tr>\n",
       "    <tr>\n",
       "      <th>2022-05-08</th>\n",
       "      <td>9213.000000</td>\n",
       "      <td>1800.000000</td>\n",
       "    </tr>\n",
       "    <tr>\n",
       "      <th>2022-05-09</th>\n",
       "      <td>5593.000000</td>\n",
       "      <td>2500.000000</td>\n",
       "    </tr>\n",
       "  </tbody>\n",
       "</table>\n",
       "</div>"
      ],
      "text/plain": [
       "                     歩数       摂取カロリー\n",
       "日付                                  \n",
       "2022-05-01  1439.000000  4500.000000\n",
       "2022-05-02  8120.000000  2420.000000\n",
       "2022-05-03  5645.714286  2388.571429\n",
       "2022-05-04  2329.000000  1500.000000\n",
       "2022-05-05  5645.714286  2388.571429\n",
       "2022-05-06  3233.000000  1800.000000\n",
       "2022-05-07  9593.000000  2200.000000\n",
       "2022-05-08  9213.000000  1800.000000\n",
       "2022-05-09  5593.000000  2500.000000"
      ]
     },
     "execution_count": 26,
     "metadata": {},
     "output_type": "execute_result"
    }
   ],
   "source": [
    "# 平均値、中央値、最頻値で保管する\n",
    "# mean-平均、median-中央値、mode().iloc[0,:]-最頻値\n",
    "df_202205_fillmean = df_202205.fillna(df_202205.mean())\n",
    "df_202205_fillmean"
   ]
  },
  {
   "cell_type": "markdown",
   "id": "fa5af788",
   "metadata": {},
   "source": [
    "## 28. Matplotlibに関する次の記述のうち誤っているもの\n",
    "\n",
    "Answer Provided:\n",
    "✕textメソッドを使用するとグラフに任意のテキストを描画できる。第一、第二引数には描画するテキストの左下のX, Y座標を指定する。また、フォントのスタイルと同様の引数の指定もできる。\n",
    "\n",
    "Correct Answer: 同じフォントの指定を複数回繰り返す場合、フォントの設定をタプルデータとして作成し、fontdict引数に一度に指定することができる。タプルデータは上書きができないため、誤って上書きされることを防ぎやすい。\n",
    "\n",
    "Comments Entered: NA\n",
    "\n",
    "→Matplotのフォントに指定に関して復習する\n",
    "\n",
    "https://qiita.com/eriho/items/21302ab7e95a2721b9f8"
   ]
  },
  {
   "cell_type": "code",
   "execution_count": 33,
   "id": "8792d59d",
   "metadata": {},
   "outputs": [
    {
     "data": {
      "image/png": "[encoded data removed]",
      "text/plain": [
       "<Figure size 640x480 with 1 Axes>"
      ]
     },
     "metadata": {},
     "output_type": "display_data"
    }
   ],
   "source": [
    "# インポート\n",
    "import matplotlib.pyplot as plt\n",
    "import matplotlib.style\n",
    "\n",
    "# ggplotstyleを指定する\n",
    "matplotlib.style.use(\"ggplot\")\n",
    "\n",
    "# データ\n",
    "x = [1,2,3]\n",
    "y = [2,4,9]\n",
    "\n",
    "# プロット\n",
    "plt.plot(x,y,label=\"Legend Label\")\n",
    "plt.legend(loc=\"best\", fontsize=15)\n",
    "plt.title(\"pyplot\", fontsize=25)\n",
    "\n",
    "# 表示\n",
    "plt.show()"
   ]
  },
  {
   "cell_type": "markdown",
   "id": "90cbb505",
   "metadata": {},
   "source": [
    "## 30. コード群に関する説明のうち誤っているもの(積み上げ棒グラフ)\n",
    "\n",
    "import matplotlib.pyplot as plt\n",
    "fig, ax = plt.subplots()\n",
    "\n",
    "x = [1, 2, 3]\n",
    "y1 = [10, 2, 3]\n",
    "y2 = [5, 3, 6]\n",
    "labels = ['spam', 'ham', 'egg']\n",
    "[ア]\n",
    "ax.bar(x, y_total, tick_label=labels, label='y1')\n",
    "ax.bar(x, y2, label='y2')\n",
    "[イ]\n",
    "\n",
    "plt.show()\n",
    "\n",
    "Answer Provided:\n",
    "✕barメソッドの引数に変数y1は利用されていない。\n",
    "\n",
    "Correct Answer: [ア]に入るコードは y_total = [num1 + num2 for num1, num2 in sum(y1, y2)] である。\n",
    "\n",
    "→積み上げ型棒グラフの書き方が違う。内容を復習しておく\n",
    "\n",
    "https://www.sejuku.net/blog/66268"
   ]
  },
  {
   "cell_type": "code",
   "execution_count": 35,
   "id": "bdea17f4",
   "metadata": {},
   "outputs": [
    {
     "ename": "TypeError",
     "evalue": "can only concatenate list (not \"int\") to list",
     "output_type": "error",
     "traceback": [
      "\u001b[1;31m---------------------------------------------------------------------------\u001b[0m",
      "\u001b[1;31mTypeError\u001b[0m                                 Traceback (most recent call last)",
      "Cell \u001b[1;32mIn[35], line 8\u001b[0m\n\u001b[0;32m      6\u001b[0m y2 \u001b[38;5;241m=\u001b[39m [\u001b[38;5;241m5\u001b[39m, \u001b[38;5;241m3\u001b[39m, \u001b[38;5;241m6\u001b[39m]\n\u001b[0;32m      7\u001b[0m labels \u001b[38;5;241m=\u001b[39m [\u001b[38;5;124m'\u001b[39m\u001b[38;5;124mspam\u001b[39m\u001b[38;5;124m'\u001b[39m, \u001b[38;5;124m'\u001b[39m\u001b[38;5;124mham\u001b[39m\u001b[38;5;124m'\u001b[39m, \u001b[38;5;124m'\u001b[39m\u001b[38;5;124megg\u001b[39m\u001b[38;5;124m'\u001b[39m]\n\u001b[1;32m----> 8\u001b[0m y_total \u001b[38;5;241m=\u001b[39m [num1 \u001b[38;5;241m+\u001b[39m num2 \u001b[38;5;28;01mfor\u001b[39;00m num1, num2 \u001b[38;5;129;01min\u001b[39;00m \u001b[38;5;28;43msum\u001b[39;49m\u001b[43m(\u001b[49m\u001b[43my1\u001b[49m\u001b[43m,\u001b[49m\u001b[43m \u001b[49m\u001b[43my2\u001b[49m\u001b[43m)\u001b[49m]\n\u001b[0;32m     10\u001b[0m ax\u001b[38;5;241m.\u001b[39mbar(x, y_total, tick_label\u001b[38;5;241m=\u001b[39mlabels, label\u001b[38;5;241m=\u001b[39m\u001b[38;5;124m'\u001b[39m\u001b[38;5;124my1\u001b[39m\u001b[38;5;124m'\u001b[39m)\n\u001b[0;32m     11\u001b[0m ax\u001b[38;5;241m.\u001b[39mbar(x, y2, label\u001b[38;5;241m=\u001b[39m\u001b[38;5;124m'\u001b[39m\u001b[38;5;124my2\u001b[39m\u001b[38;5;124m'\u001b[39m)\n",
      "\u001b[1;31mTypeError\u001b[0m: can only concatenate list (not \"int\") to list"
     ]
    },
    {
     "data": {
      "image/png": "[encoded data removed]",
      "text/plain": [
       "<Figure size 640x480 with 1 Axes>"
      ]
     },
     "metadata": {},
     "output_type": "display_data"
    }
   ],
   "source": [
    "import matplotlib.pyplot as plt\n",
    "fig, ax = plt.subplots()\n",
    "\n",
    "x = [1, 2, 3]\n",
    "y1 = [10, 2, 3]\n",
    "y2 = [5, 3, 6]\n",
    "labels = ['spam', 'ham', 'egg']\n",
    "y_total = [num1 + num2 for num1, num2 in sum(y1, y2)]\n",
    "\n",
    "ax.bar(x, y_total, tick_label=labels, label='y1')\n",
    "ax.bar(x, y2, label='y2')\n",
    "\n",
    "plt.show()"
   ]
  },
  {
   "cell_type": "code",
   "execution_count": 36,
   "id": "93d76245",
   "metadata": {},
   "outputs": [
    {
     "data": {
      "image/png": "[encoded data removed]",
      "text/plain": [
       "<Figure size 640x480 with 1 Axes>"
      ]
     },
     "metadata": {},
     "output_type": "display_data"
    }
   ],
   "source": [
    "# zip関数は複数のリストを同時に取得できる。y値を足し合わせた値の同じ長さのリストを生成するのに用いる\n",
    "# 積み上げ棒グラフ → zipで圧縮、と覚えておく\n",
    "\n",
    "import matplotlib.pyplot as plt\n",
    "fig, ax = plt.subplots()\n",
    "\n",
    "x = [1, 2, 3]\n",
    "y1 = [10, 2, 3]\n",
    "y2 = [5, 3, 6]\n",
    "labels = ['spam', 'ham', 'egg']\n",
    "y_total = [num1 + num2 for num1, num2 in zip(y1, y2)]\n",
    "\n",
    "ax.bar(x, y_total, tick_label=labels, label='y1')\n",
    "ax.bar(x, y2, label='y2')\n",
    "\n",
    "plt.show()"
   ]
  },
  {
   "cell_type": "markdown",
   "id": "9832080f",
   "metadata": {},
   "source": [
    "## 31. 正規分布に従うランダムな値をヒストグラムで描画する次のコード群に関する説明のうち誤っているもの\n",
    "import numpy as np\n",
    "import matplotlib.pyplot as plt\n",
    "np.random.seed(123)\n",
    "mu = 100\n",
    "sigma = 15\n",
    "x = np.random.normal(mu, sigma, 1000)\n",
    "fig, ax = plt.subplots()\n",
    "n, bins, patches = ax.hist(x, bins=25, orientation='horizontal')\n",
    "for i, num in enumerate(n):\n",
    "    print('{:.2f} - {:.2f} {}'.format(bins[i], bins[i + 1], num))\n",
    "\n",
    "plt.show()\n",
    "\n",
    "Answer Provided:\n",
    "✕出力されるテキストの行数は25行である。\n",
    "\n",
    "Correct Answer: このコード群を複数回実行した場合、必ずしも同じ結果になるわけではない。\n",
    "\n",
    "→乱数シードが固定されていれば同じ値となる。「np.random.seed(123) + 必ずしも同じ結果になるわけではない」となっている答えは真っ先に確認する。"
   ]
  },
  {
   "cell_type": "code",
   "execution_count": 37,
   "id": "d923017a",
   "metadata": {},
   "outputs": [
    {
     "name": "stdout",
     "output_type": "stream",
     "text": [
      "51.53 - 55.62 2.0\n",
      "55.62 - 59.70 3.0\n",
      "59.70 - 63.78 6.0\n",
      "63.78 - 67.86 7.0\n",
      "67.86 - 71.94 16.0\n",
      "71.94 - 76.02 29.0\n",
      "76.02 - 80.11 37.0\n",
      "80.11 - 84.19 65.0\n",
      "84.19 - 88.27 57.0\n",
      "88.27 - 92.35 90.0\n",
      "92.35 - 96.43 105.0\n",
      "96.43 - 100.51 115.0\n",
      "100.51 - 104.59 116.0\n",
      "104.59 - 108.68 78.0\n",
      "108.68 - 112.76 74.0\n",
      "112.76 - 116.84 77.0\n",
      "116.84 - 120.92 42.0\n",
      "120.92 - 125.00 41.0\n",
      "125.00 - 129.08 21.0\n",
      "129.08 - 133.17 10.0\n",
      "133.17 - 137.25 4.0\n",
      "137.25 - 141.33 2.0\n",
      "141.33 - 145.41 2.0\n",
      "145.41 - 149.49 0.0\n",
      "149.49 - 153.57 1.0\n"
     ]
    },
    {
     "data": {
      "image/png": "[encoded data removed]",
      "text/plain": [
       "<Figure size 640x480 with 1 Axes>"
      ]
     },
     "metadata": {},
     "output_type": "display_data"
    }
   ],
   "source": [
    "import numpy as np\n",
    "import matplotlib.pyplot as plt\n",
    "np.random.seed(123)\n",
    "mu = 100\n",
    "sigma = 15\n",
    "x = np.random.normal(mu, sigma, 1000)\n",
    "fig, ax = plt.subplots()\n",
    "n, bins, patches = ax.hist(x, bins=25, orientation='horizontal')\n",
    "for i, num in enumerate(n):\n",
    "    print('{:.2f} - {:.2f} {}'.format(bins[i], bins[i + 1], num))\n",
    "\n",
    "plt.show()"
   ]
  },
  {
   "cell_type": "markdown",
   "id": "92a111b4",
   "metadata": {},
   "source": [
    "## 35. 機械学習のアルゴリズムに関する次の記述のうち、誤っているもの( SVM + 決定木 )\n",
    "\n",
    "Answer Provided:\n",
    "✕決定木でデータを分割する時は、データの分割によってどれだけ得をするかについて考える。これを情報利得と呼ぶ。情報利得は親ノードの不純度から子ノードの不純度を差し引いたものとして定義される。\n",
    "\n",
    "Correct Answer: サポートベクタマシンは、マージンを最小にすることにより決定境界を求めるが、これは、決定境界がサポートベクタから近くなり多少のデータが変わっても誤った分類を行う可能性をを低くし、汎化能力を持たせようとしているためである。\n",
    "\n",
    "→　SVMはマージンを最大にすることにより決定境界を求める。「マージン・最大」覚えておく。"
   ]
  },
  {
   "cell_type": "markdown",
   "id": "a7299080",
   "metadata": {},
   "source": [
    "## 38. モデルの評価指標に関する次の記述のうち誤っているもの\n",
    "\n",
    "Answer Provided:\n",
    "✕一般的に適合率と再現率はトレードオフの関係にある。つまり、どちらか一方の指標を高くすると、もう一方の指標は低くなる。\n",
    "\n",
    "Correct Answer: 機械学習を用いて構築した回帰モデルの良し悪しを評価する指標に適合率、再現率、F値、正解率がある。これらは混同行列から計算する。\n",
    "\n",
    "→回帰モデル指標指標は決定係数R^2を使うので間違い。「回帰モデル・分類モデル」に対応する評価指標をチェックする。適合率と再現率はトレードオフの関係になるというのは正解。なぜそうなるのかを理解しておく"
   ]
  },
  {
   "cell_type": "markdown",
   "id": "48f4e48e",
   "metadata": {},
   "source": [
    "## 39. 次のスクリプトに関する説明のうち誤っているもの \n",
    "\n",
    "from sklearn.datasets import load_iris\n",
    "from sklearn.model_selection import GridSearchCV\n",
    "from sklearn.tree import DecisionTreeClassifier\n",
    "from sklearn.model_selection import train_test_split\n",
    "\n",
    "iris = load_iris()\n",
    "X, y = iris.data, iris.target\n",
    "X_train, X_test, y_train, y_test = train_test_split(X, y, test_size=0.3, random_state=123)\n",
    "clf = DecisionTreeClassifier()\n",
    "param_grid = {'max_depth': [3, 4, 5]}\n",
    "cv = GridSearchCV(clf, param_grid=param_grid, cv=10)\n",
    "cv.fit(X_train, y_train)\n",
    "y_pred = cv.predict(X_test)\n",
    "\n",
    "Answer Provided:\n",
    "✕このスクリプトで求められる決定木の深さの最適値は必ず3から5の整数のいずれかとなる。\n",
    "\n",
    "Correct Answer: このスクリプトを複数回実行した場合、求められる決定木の深さの最適値は必ず同じ値となる。\n",
    "\n",
    "→ひっかけ問題。グリッドサーチをした結果は学習用データがランダムに変わるので決定木の深さの最適値が変わることもある。"
   ]
  },
  {
   "cell_type": "code",
   "execution_count": null,
   "id": "087fba36",
   "metadata": {},
   "outputs": [],
   "source": []
  },
  {
   "cell_type": "code",
   "execution_count": null,
   "id": "a1d15eb4",
   "metadata": {},
   "outputs": [],
   "source": []
  },
  {
   "cell_type": "code",
   "execution_count": null,
   "id": "a79a9880",
   "metadata": {},
   "outputs": [],
   "source": []
  },
  {
   "cell_type": "code",
   "execution_count": null,
   "id": "49d3a000",
   "metadata": {},
   "outputs": [],
   "source": []
  },
  {
   "cell_type": "code",
   "execution_count": null,
   "id": "42c94754",
   "metadata": {},
   "outputs": [],
   "source": []
  },
  {
   "cell_type": "code",
   "execution_count": null,
   "id": "2729e404",
   "metadata": {},
   "outputs": [],
   "source": []
  },
  {
   "cell_type": "code",
   "execution_count": null,
   "id": "22637190",
   "metadata": {},
   "outputs": [],
   "source": []
  },
  {
   "cell_type": "code",
   "execution_count": null,
   "id": "aa8a1888",
   "metadata": {},
   "outputs": [],
   "source": []
  },
  {
   "cell_type": "code",
   "execution_count": null,
   "id": "8a28614f",
   "metadata": {},
   "outputs": [],
   "source": []
  }
 ],
 "metadata": {
  "kernelspec": {
   "display_name": "Python 3 (ipykernel)",
   "language": "python",
   "name": "python3"
  },
  "language_info": {
   "codemirror_mode": {
    "name": "ipython",
    "version": 3
   },
   "file_extension": ".py",
   "mimetype": "text/x-python",
   "name": "python",
   "nbconvert_exporter": "python",
   "pygments_lexer": "ipython3",
   "version": "3.10.9"
  },
  "varInspector": {
   "cols": {
    "lenName": 16,
    "lenType": 16,
    "lenVar": 40
   },
   "kernels_config": {
    "python": {
     "delete_cmd_postfix": "",
     "delete_cmd_prefix": "del ",
     "library": "var_list.py",
     "varRefreshCmd": "print(var_dic_list())"
    },
    "r": {
     "delete_cmd_postfix": ") ",
     "delete_cmd_prefix": "rm(",
     "library": "var_list.r",
     "varRefreshCmd": "cat(var_dic_list()) "
    }
   },
   "types_to_exclude": [
    "module",
    "function",
    "builtin_function_or_method",
    "instance",
    "_Feature"
   ],
   "window_display": false
  }
 },
 "nbformat": 4,
 "nbformat_minor": 5
}
