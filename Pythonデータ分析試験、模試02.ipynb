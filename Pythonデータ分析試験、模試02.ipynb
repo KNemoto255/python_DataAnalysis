{
 "cells": [
  {
   "cell_type": "code",
   "execution_count": null,
   "id": "2fa0133d",
   "metadata": {},
   "outputs": [],
   "source": [
    "Pythonデータ分析試験の模擬内容を復習\n",
    "間違えたコードはどう動作するかを実際にチェックする"
   ]
  },
  {
   "cell_type": "markdown",
   "id": "f8a6aeb5",
   "metadata": {},
   "source": [
    "1. 機械学習に関する次の記述のうち、正しいものはどれか。\n",
    "\n",
    "\n",
    "Answer Provided:\n",
    "✕教師あり学習は、目的変数の種類により回帰と分類の２種類に分けられる。このうち分類は目的変数が連続値となる。\n",
    "\n",
    "Correct Answer: 教師なし学習の１つであるDBSCAN法は密度準拠クラスタリングアルゴリズムであり、特徴量ベクトル間の距離に着眼した手法である。"
   ]
  },
  {
   "cell_type": "code",
   "execution_count": null,
   "id": "34f6a15e",
   "metadata": {},
   "outputs": [],
   "source": [
    "→ 「分類は目的変数が連続値」というのが間違い。実際には整数値やワンホットベクトルを用いる\n",
    "DBSCANは密度ベースクラスタリングであり、\n",
    "ある半径の内側に点がいくつあるか（密度）によってその領域をクラスタとして判断する＝特徴量ベクトル間の距離に着眼して分類するというアルゴリズムとなっている。\n",
    "「DBSCAN法は密度準拠クラスタリングアルゴリズムであり...」と記述があったら正しい\n",
    "\n",
    "https://wakame-msds.com/dbscan/#:~:text=DBSCAN%20(Density%2DBased%20Spatial%20Clustering,%E8%A6%8B%E3%81%A4%E3%81%91%E3%80%81%E3%82%AF%E3%83%A9%E3%82%B9%E3%82%BF%E3%83%AA%E3%83%B3%E3%82%B0%E3%81%99%E3%82%8B%E6%89%8B%E6%B3%95%E3%81%A7%E3%81%99%E3%80%82"
   ]
  },
  {
   "cell_type": "code",
   "execution_count": null,
   "id": "c2d46a75",
   "metadata": {},
   "outputs": [],
   "source": [
    "5. 次の正規表現を用いたスクリプトの[ ア ]の部分に入れたときエラーとなるもの\n",
    "\n",
    "import re\n",
    "prog = re.compile('Kus(a|u)n(a|o)(k|g)i(saya)?', re.IGNORECASE)\n",
    "\n",
    "[ ア ]\n",
    "\n",
    "print(ret[0])\n",
    "\n",
    "\n",
    "Answer Provided:\n",
    "✕ret = prog.search('KUSANAGI')\n",
    "\n",
    "\n",
    "Correct Answer: ret = prog.search('Kusanoao')\n",
    "\n",
    "Comments Entered: NA\n"
   ]
  },
  {
   "cell_type": "code",
   "execution_count": null,
   "id": "9b5abf53",
   "metadata": {},
   "outputs": [],
   "source": [
    "→正規表現を相変わらず間違えてしまう。ピンポイントで徹底的に復習しておく"
   ]
  },
  {
   "cell_type": "code",
   "execution_count": 1,
   "id": "f313f262",
   "metadata": {
    "ExecuteTime": {
     "end_time": "2023-05-30T01:36:56.129710Z",
     "start_time": "2023-05-30T01:36:53.805515Z"
    }
   },
   "outputs": [
    {
     "ename": "TypeError",
     "evalue": "'NoneType' object is not subscriptable",
     "output_type": "error",
     "traceback": [
      "\u001b[1;31m---------------------------------------------------------------------------\u001b[0m",
      "\u001b[1;31mTypeError\u001b[0m                                 Traceback (most recent call last)",
      "Cell \u001b[1;32mIn[1], line 5\u001b[0m\n\u001b[0;32m      2\u001b[0m prog \u001b[38;5;241m=\u001b[39m re\u001b[38;5;241m.\u001b[39mcompile(\u001b[38;5;124m'\u001b[39m\u001b[38;5;124mKus(a|u)n(a|o)(k|g)i(saya)?\u001b[39m\u001b[38;5;124m'\u001b[39m, re\u001b[38;5;241m.\u001b[39mIGNORECASE)\n\u001b[0;32m      4\u001b[0m ret \u001b[38;5;241m=\u001b[39m prog\u001b[38;5;241m.\u001b[39msearch(\u001b[38;5;124m'\u001b[39m\u001b[38;5;124mKusanoao\u001b[39m\u001b[38;5;124m'\u001b[39m)\n\u001b[1;32m----> 5\u001b[0m \u001b[38;5;28mprint\u001b[39m(\u001b[43mret\u001b[49m\u001b[43m[\u001b[49m\u001b[38;5;241;43m0\u001b[39;49m\u001b[43m]\u001b[49m)\n",
      "\u001b[1;31mTypeError\u001b[0m: 'NoneType' object is not subscriptable"
     ]
    }
   ],
   "source": [
    "import re\n",
    "prog = re.compile('Kus(a|u)n(a|o)(k|g)i(saya)?', re.IGNORECASE)\n",
    "\n",
    "ret = prog.search('Kusanoao')\n",
    "print(ret[0])"
   ]
  },
  {
   "cell_type": "code",
   "execution_count": 2,
   "id": "04f84eaa",
   "metadata": {
    "ExecuteTime": {
     "end_time": "2023-05-30T01:37:10.928709Z",
     "start_time": "2023-05-30T01:37:10.910706Z"
    }
   },
   "outputs": [
    {
     "name": "stdout",
     "output_type": "stream",
     "text": [
      "KUSANAGI\n"
     ]
    }
   ],
   "source": [
    "import re\n",
    "prog = re.compile('Kus(a|u)n(a|o)(k|g)i(saya)?', re.IGNORECASE)\n",
    "\n",
    "ret = prog.search('KUSANAGI')\n",
    "print(ret[0])"
   ]
  },
  {
   "cell_type": "code",
   "execution_count": null,
   "id": "adcc8527",
   "metadata": {},
   "outputs": [],
   "source": [
    "6. モジュールに関する次の記述のうち誤っているものはどれか。\n",
    "Answer Provided:\n",
    "✕pickleモジュールは、Pythonのオブジェクトを直列化してファイルなどで読み書きできるようにすることができる。pickle化できるものとしてブール値や数値、文字列などがある。\n",
    "\n",
    "Correct Answer: loggingモジュールのログレベルには、重要度の高い順にCRITICAL、ERROR、WARNING、DEBUG、INFOの5種類がある。\n",
    "\n",
    "Comments Entered: NA"
   ]
  },
  {
   "cell_type": "markdown",
   "id": "32231d13",
   "metadata": {},
   "source": [
    "→「pickleモジュールは、Pythonのオブジェクトを直列化してファイルなどで読み書きできるようにする」\n",
    "という表現があったら正しい。\n",
    "loggingモジュールはプログラムの実行中に起こった出来事の記録の記録を行う。\n",
    "ログが残ることで、バグが起きたときにエラーが発生した理由を特定したり、\n",
    "ある時点での変数の値を確認したりといったことが出来る。\n",
    "\n",
    "- 使っている設定値や詳細な情報表示などのデバッグ用の表示\n",
    "- 正常動作の記録\n",
    "- 警告を出しておきたい動作の記録\n",
    "- エラーなどの問題の記録、停止してしまうような致命的なエラー\n",
    "\n",
    "「重要度の高い順にCRITICAL、ERROR、WARNING、DEBUG、INFO」という記述が間違い。\n",
    "実際の重要度はCRITICAL、ERROR、WARNING、INFO、DEBUGという順になっている。\n",
    "「エラーが優先、デバッグは最後」と覚える\n",
    "\n",
    "https://www.sejuku.net/blog/23149"
   ]
  },
  {
   "cell_type": "code",
   "execution_count": 5,
   "id": "6aa68cea",
   "metadata": {
    "ExecuteTime": {
     "end_time": "2023-05-30T01:43:58.033757Z",
     "start_time": "2023-05-30T01:43:57.967752Z"
    }
   },
   "outputs": [
    {
     "name": "stderr",
     "output_type": "stream",
     "text": [
      "info\n",
      "info\n",
      "info\n",
      "warning\n",
      "warning\n",
      "warning\n",
      "test\n",
      "test\n",
      "test\n"
     ]
    }
   ],
   "source": [
    "import logging\n",
    "\n",
    "# ログの出力名を設定（1）\n",
    "logger = logging.getLogger('LoggingTest')\n",
    " \n",
    "# ログをコンソール出力するための設定（2）\n",
    "sh = logging.StreamHandler()\n",
    "logger.addHandler(sh)\n",
    " \n",
    "# log関数でログ出力処理（3）\n",
    "logger.log(20, 'info')\n",
    "logger.log(30, 'warning')\n",
    "logger.log(100, 'test')"
   ]
  },
  {
   "cell_type": "code",
   "execution_count": 6,
   "id": "78b690b7",
   "metadata": {
    "ExecuteTime": {
     "end_time": "2023-05-30T01:43:58.591163Z",
     "start_time": "2023-05-30T01:43:58.528223Z"
    }
   },
   "outputs": [
    {
     "name": "stderr",
     "output_type": "stream",
     "text": [
      "info\n",
      "info\n",
      "info\n",
      "info\n",
      "warning\n",
      "warning\n",
      "warning\n",
      "warning\n",
      "test\n",
      "test\n",
      "test\n",
      "test\n"
     ]
    }
   ],
   "source": [
    "# ログレベルの設定- ログレベルを上回るログのみを出力\n",
    "\n",
    "import logging\n",
    " \n",
    "# ログの出力名を設定 - loggerというloggingクラスをインスタンシエートする\n",
    "logger = logging.getLogger('LoggingTest')\n",
    " \n",
    "#ログレベルを設定\n",
    "logger.setLevel(20)\n",
    " \n",
    "#ログをコンソール出力するための設定→ハンドラーのインスタンスを作り、loggerの子インスタンスにする\n",
    "sh = logging.StreamHandler()\n",
    "logger.addHandler(sh)\n",
    "    \n",
    "logger.log(20, 'info')\n",
    "logger.log(30, 'warning')\n",
    "logger.log(100, 'test')"
   ]
  },
  {
   "cell_type": "code",
   "execution_count": null,
   "id": "3ca4f2e4",
   "metadata": {},
   "outputs": [],
   "source": [
    "8. 数学の基礎に関する次の記述のうち誤っているものはどれか。\n",
    "Answer Provided:\n",
    "✕シグモイド関数のグラフの形は、座標点（0, 0.5）を基点として点対象の、S字型曲線である。\n",
    "\n",
    "Correct Answer: ネイピア数とは数学定数の一つで、常用対数の底であり、通常「e」の記号で表現される。対数関数で底が省略された場合には、「e」なのか「10」なのかは注意が必要である。"
   ]
  },
  {
   "cell_type": "code",
   "execution_count": null,
   "id": "6b6ae966",
   "metadata": {},
   "outputs": [],
   "source": [
    "シグモイド関数：\n",
    "「グラフの形は、座標点（0, 0.5）を基点として点対象」は正しい。\n",
    "シグモイド関数の数式・性質を再確認しておく。\n",
    "\n",
    "\n",
    "対数の知識：\n",
    "自然対数の底がネイピア数、「1/xの積分がloge(x)」なので非常に有用。\n",
    "常用対数の底は10で、ネイピア数ではない。"
   ]
  },
  {
   "cell_type": "code",
   "execution_count": null,
   "id": "9115d076",
   "metadata": {},
   "outputs": [],
   "source": [
    "9. (3, 4) で表現されるベクトルをAとする。(4, 7)で表現されるベクトルをBとする。(2, 4, 5) で表現されるベクトルをCとする。次のベクトルに関する記述のうち正しいものはどれか。\n",
    "Answer Provided:\n",
    "✓Bの原点からのマンハッタン距離は11である。\n",
    "Correct Answer: Bの原点からのマンハッタン距離は11である。\n",
    "\n",
    "Comments Entered: NA"
   ]
  },
  {
   "cell_type": "code",
   "execution_count": null,
   "id": "4443acad",
   "metadata": {},
   "outputs": [],
   "source": [
    "→ユークリッド距離とマンハッタン距離、ベクトルの演算について復習しておく"
   ]
  },
  {
   "cell_type": "code",
   "execution_count": null,
   "id": "9a895358",
   "metadata": {},
   "outputs": [],
   "source": [
    "10.\n",
    "10. 行列に関する次の記述のうち誤っているものはどれか。\n",
    "Answer Provided:\n",
    "✕行列の列の数とベクトルのサイズが同じ場合は、これらの掛け算を定義することができ、結果は、元の行列の行数と同じサイズのベクトルになる。\n",
    "\n",
    "Correct Answer: 行列同士の掛け算は行列となる。数値の掛け算は順番を入れ替えても同じ結果となるが、行列の掛け算は順番を入れ替えると同じ結果になることはない。\n",
    "\n",
    "Comments Entered: NA"
   ]
  },
  {
   "cell_type": "code",
   "execution_count": null,
   "id": "36f7e056",
   "metadata": {},
   "outputs": [],
   "source": [
    "→「行列の列の数とベクトルのサイズが同じ場合掛け算を定義することができ元の行列の行数と同じサイズのベクトルになる」\n",
    "というのが正解。\n",
    "「行列同士の掛け算は行列となる」というのが間違い。実際はスカラー値になるはず"
   ]
  },
  {
   "cell_type": "code",
   "execution_count": null,
   "id": "e8d6089a",
   "metadata": {},
   "outputs": [],
   "source": [
    "11. 微分積分に関する以下の記述のうち誤っているものはどれか。\n",
    "Answer Provided:\n",
    "✕関数 F(x)を微分して f(x)となったとき、F を f の原始関数、f を F の導関数と呼ぶ。\n",
    "Correct Answer: 右辺が5x^2（5掛けるxの2乗）で表現される関数 f(x)を積分すると、右辺は15x^3＋C（Cは積分定数）となる。\n",
    "\n",
    "Comments Entered: NA\n"
   ]
  },
  {
   "cell_type": "code",
   "execution_count": null,
   "id": "b0a59406",
   "metadata": {},
   "outputs": [],
   "source": [
    "→ 5x^2の積分は 5/3x^3　になる。「一見正しい値」に騙されないようにする　"
   ]
  },
  {
   "cell_type": "code",
   "execution_count": null,
   "id": "e38ff411",
   "metadata": {},
   "outputs": [],
   "source": [
    "13. 「1の対数、ネイピア数、sin(30°)、円周率、0の階乗」の5つの数からなるデータがある。このデータについて正しいものはどれか。\n",
    "Answer Provided:\n",
    "✕最頻値は1である\n",
    "\n",
    "Correct Answer: 0の階乗は1の対数より大きい\n",
    "\n",
    "Comments Entered: NA"
   ]
  },
  {
   "cell_type": "code",
   "execution_count": null,
   "id": "1f8ab749",
   "metadata": {},
   "outputs": [],
   "source": [
    "→1の対数は loge(1)なので0、0の階乗は1となる。\n",
    "　「0の階乗は1の対数より大きい」が正解。"
   ]
  },
  {
   "cell_type": "code",
   "execution_count": null,
   "id": "a0da8e9b",
   "metadata": {},
   "outputs": [],
   "source": [
    "14. NumPyに関する次の記述のうち、誤っているものはどれか。\n",
    "Answer Provided:\n",
    "✕NumPyオブジェクトの型を確認するためにはtype関数を、\n",
    "　NumPy配列の要素のデータ型を確認するにはdtype属性を用いることができる。\n",
    "\n",
    "\n",
    "Correct Answer: NumPyは配列や行列を効率よく扱うためのPythonのサードパーティ製パッケージで、\n",
    "行列用の型であるndarrayと配列用の型であるmatrixがある。\n",
    "\n",
    "Comments Entered: NA"
   ]
  },
  {
   "cell_type": "code",
   "execution_count": null,
   "id": "6f43fabf",
   "metadata": {},
   "outputs": [],
   "source": [
    "→NumPyオブジェクトの型の確認はndarray.dtype属性を使用するので、これ合っている。\n",
    " type関数で型チェックができるのはデフォルトのpythonオブジェクトのみ。\n",
    "    \n",
    "NumPyには、行列用の型であるndarrayしかないので、「配列用の型であるmatrixがある」というのが間違い。\n",
    "\n",
    "https://note.nkmk.me/python-numpy-dtype-astype/"
   ]
  },
  {
   "cell_type": "code",
   "execution_count": 8,
   "id": "b709685a",
   "metadata": {
    "ExecuteTime": {
     "end_time": "2023-05-30T03:52:56.856984Z",
     "start_time": "2023-05-30T03:52:56.822985Z"
    }
   },
   "outputs": [
    {
     "name": "stdout",
     "output_type": "stream",
     "text": [
      "True\n",
      "int32\n",
      "float64\n"
     ]
    },
    {
     "name": "stderr",
     "output_type": "stream",
     "text": [
      "C:\\Users\\guest017\\AppData\\Local\\Temp\\ipykernel_13600\\2625722741.py:1: DeprecationWarning: `np.int` is a deprecated alias for the builtin `int`. To silence this warning, use `int` by itself. Doing this will not modify any behavior and is safe. When replacing `np.int`, you may wish to use e.g. `np.int64` or `np.int32` to specify the precision. If you wish to review your current use, check the release note link for additional information.\n",
      "Deprecated in NumPy 1.20; for more details and guidance: https://numpy.org/devdocs/release/1.20.0-notes.html#deprecations\n",
      "  print(int is np.int)\n"
     ]
    }
   ],
   "source": [
    "print(int is np.int)\n",
    "# True\n",
    "\n",
    "a = np.array([1, 2, 3], dtype=int)\n",
    "print(a.dtype)\n",
    "# int64\n",
    "\n",
    "a = np.array([1.0, 2.0, 3.0], dtype='float')\n",
    "print(a.dtype)\n",
    "# int64"
   ]
  },
  {
   "cell_type": "code",
   "execution_count": null,
   "id": "48378f99",
   "metadata": {},
   "outputs": [],
   "source": [
    "20. 次のスクリプトを実行して20を出力させたい。[ア]に入るものの説明として正しいものはどれか。\n",
    "\n",
    "import pandas as pd\n",
    "df = pd.DataFrame([[15, \"a\", True],[20, \"b\", False],[10, \"c\", False]])\n",
    "df.index = [\"01\", \"02\", \"03\"]\n",
    "df.columns = [\"A\", \"B\", \"C\"]\n",
    "[ア]\n",
    "print(a)\n",
    "Answer Provided:\n",
    "✕a = df.iloc[\"A\", \"02\"] または a = df.loc[1, 0]\n",
    "\n",
    "\n",
    "Correct Answer: a = df.loc[\"02\", \"A\"] または a = df.iloc[1, 0]"
   ]
  },
  {
   "cell_type": "code",
   "execution_count": null,
   "id": "aed3415b",
   "metadata": {},
   "outputs": [],
   "source": [
    "→def.locの第一引数はインデックス、というのを頭に刻んでおく。"
   ]
  },
  {
   "cell_type": "code",
   "execution_count": 9,
   "id": "fc823e8f",
   "metadata": {
    "ExecuteTime": {
     "end_time": "2023-05-30T03:55:40.508100Z",
     "start_time": "2023-05-30T03:55:40.482094Z"
    }
   },
   "outputs": [
    {
     "ename": "SyntaxError",
     "evalue": "invalid syntax (1080880221.py, line 6)",
     "output_type": "error",
     "traceback": [
      "\u001b[1;36m  Cell \u001b[1;32mIn[9], line 6\u001b[1;36m\u001b[0m\n\u001b[1;33m    a = df.loc[\"02\", \"A\"] または a = df.iloc[1, 0]\u001b[0m\n\u001b[1;37m                          ^\u001b[0m\n\u001b[1;31mSyntaxError\u001b[0m\u001b[1;31m:\u001b[0m invalid syntax\n"
     ]
    }
   ],
   "source": [
    "import pandas as pd\n",
    "df = pd.DataFrame([[15, \"a\", True],[20, \"b\", False],[10, \"c\", False]])\n",
    "df.index = [\"01\", \"02\", \"03\"]\n",
    "df.columns = [\"A\", \"B\", \"C\"]\n",
    "\n",
    "a = df.loc[\"02\", \"A\"] または a = df.iloc[1, 0]\n",
    "print(a)"
   ]
  },
  {
   "cell_type": "code",
   "execution_count": null,
   "id": "2aabfc7e",
   "metadata": {},
   "outputs": [],
   "source": [
    "21. pandasのデータの読み込みと書き込みに関する次の記述のうち誤っているものはどれか。\n",
    "Answer Provided:\n",
    "✕DataFrameを直列化してファイルとして保存し、再利用するためにpickleモジュールを利用することができる。\n",
    "\n",
    "Correct Answer: read_htmlメソッドを使うと、WebサイトのHTML内のtable要素を、直接DataFrameに取り込むことができる。table要素が複数ある場合には、最初の要素のみが取得される。\n",
    "Comments Entered: NA"
   ]
  },
  {
   "cell_type": "code",
   "execution_count": null,
   "id": "b92dc434",
   "metadata": {},
   "outputs": [],
   "source": [
    "→「DataFrameを直列化してファイルとして保存し再利用するためにpickleモジュールを利用できる」\n",
    "　という表現があったら正解。\n",
    "\n",
    "間違っているのが「table要素が複数ある場合には最初の要素のみが取得される」という点。"
   ]
  },
  {
   "cell_type": "code",
   "execution_count": null,
   "id": "ce3783da",
   "metadata": {},
   "outputs": [],
   "source": [
    "import pandas as pd\n",
    "df = pd.read_html(\"https://www.example.com/\")"
   ]
  },
  {
   "cell_type": "code",
   "execution_count": null,
   "id": "510b2b7b",
   "metadata": {},
   "outputs": [],
   "source": [
    "31. Matplotlibを用いて正規分布に従うランダムな値をヒストグラムで描画する次のコード群に関する説明のうち誤っているものはどれか。\n",
    "\n",
    "import numpy as np\n",
    "import matplotlib.pyplot as plt\n",
    "np.random.seed(123)\n",
    "mu = 100\n",
    "sigma = 15\n",
    "x = np.random.normal(mu, sigma, 1000)\n",
    "fig, ax = plt.subplots()\n",
    "n, bins, patches = ax.hist(x, bins=25, orientation='horizontal')\n",
    "for i, num in enumerate(n):\n",
    "    print('{:.2f} - {:.2f} {}'.format(bins[i], bins[i + 1], num))\n",
    "\n",
    "plt.show()\n",
    "Answer Provided:\n",
    "✕histメソッドの返り値が格納される「n, bins, patches」のうち「bins」にはビンの境界の値が入っており、その個数は26である。\n",
    "\n",
    "\n",
    "Correct Answer: histメソッドのデフォルトのビン数は20であるが、上記スクリプトで出力されるヒストグラムのビンの数は25である。\n",
    "\n",
    "Comments Entered: NA"
   ]
  },
  {
   "cell_type": "code",
   "execution_count": null,
   "id": "5ca2e49e",
   "metadata": {},
   "outputs": [],
   "source": [
    "32. Matplotlibを用いて円グラフを描画する次のスクリプトに関する説明のうち誤っているものはどれか。 \n",
    " \n",
    "import matplotlib.pyplot as plt \n",
    "labels = ['spam', 'ham', 'egg'] \n",
    "x = [10, 3, 1] \n",
    "fig, ax = plt.subplots() \n",
    "ax.pie(x, labels=labels, startangle=90, counterclock=False, shadow=True, autopct='%1.2f%%') \n",
    "  \n",
    "plt.show()\n",
    "Answer Provided:\n",
    "✕円グラフは上から配置される\n",
    "\n",
    "Correct Answer: 円グラフのアスペクト比は保持される"
   ]
  },
  {
   "cell_type": "code",
   "execution_count": null,
   "id": "60c24cd2",
   "metadata": {},
   "outputs": [],
   "source": [
    "→matplotlibの円グラフはデフォルトでは上から配置されるので、「円グラフは上から配置される」が正しい。\n",
    "デフォルトでは円グラフのアスペクト比は固定されないので、コードが描かれてなければ\n",
    "「アスペクト比は保持される」と覚えておく。"
   ]
  },
  {
   "cell_type": "code",
   "execution_count": 10,
   "id": "de256579",
   "metadata": {
    "ExecuteTime": {
     "end_time": "2023-05-30T04:06:58.667924Z",
     "start_time": "2023-05-30T04:06:55.964002Z"
    }
   },
   "outputs": [
    {
     "data": {
      "image/png": "[encoded data removed]",
      "text/plain": [
       "<Figure size 640x480 with 1 Axes>"
      ]
     },
     "metadata": {},
     "output_type": "display_data"
    }
   ],
   "source": [
    "import matplotlib.pyplot as plt \n",
    "labels = ['spam', 'ham', 'egg'] \n",
    "x = [10, 3, 1] \n",
    "fig, ax = plt.subplots() \n",
    "ax.pie(x, labels=labels, startangle=90, counterclock=False, shadow=True, autopct='%1.2f%%') \n",
    "  \n",
    "plt.show()"
   ]
  },
  {
   "cell_type": "code",
   "execution_count": 12,
   "id": "348721b6",
   "metadata": {
    "ExecuteTime": {
     "end_time": "2023-05-30T04:08:26.727670Z",
     "start_time": "2023-05-30T04:08:26.136517Z"
    }
   },
   "outputs": [
    {
     "data": {
      "image/png": "[encoded data removed]",
      "text/plain": [
       "<Figure size 640x480 with 1 Axes>"
      ]
     },
     "metadata": {},
     "output_type": "display_data"
    }
   ],
   "source": [
    "#ax.set_aspect('equal')と指定すると円のアスペクト比が正円となり、均整になる\n",
    "\n",
    "import matplotlib.pyplot as plt \n",
    "labels = ['spam', 'ham', 'egg'] \n",
    "x = [10, 3, 1] \n",
    "fig, ax = plt.subplots() \n",
    "ax.pie(x, labels=labels, startangle=90, counterclock=False, shadow=True, autopct='%1.2f%%') \n",
    "ax.set_aspect('equal')\n",
    "  \n",
    "plt.show()"
   ]
  },
  {
   "cell_type": "code",
   "execution_count": null,
   "id": "30526991",
   "metadata": {},
   "outputs": [],
   "source": [
    "38. モデルの評価指標に関する次の記述のうち誤っているものはどれか。\n",
    "\n",
    "Answer Provided:\n",
    "✕適合率は、間違えることをできるだけ避けたい場合に重視する指標である。\n",
    "\n",
    "Correct Answer: 適合率、再現率、F値、正解率は、機械学習を用いて構築した回帰モデルの良し悪しを評価する指標であり、\n",
    "    混同行列から計算する。"
   ]
  },
  {
   "cell_type": "code",
   "execution_count": null,
   "id": "d9805e7c",
   "metadata": {},
   "outputs": [],
   "source": [
    "→適合率、再現率、F値、正解率は回帰モデルではなく分類モデルの評価指標。\n",
    "　回帰モデルはクラスではなく連続値を予測するので正解率ではなく決定係数などを用いる\n",
    "　回帰モデルの良し悪しを評価する指標としては、平均二乗誤差（MSE）、\n",
    "　平均絶対誤差（MAE）、決定係数（R^2）などがある。"
   ]
  },
  {
   "cell_type": "code",
   "execution_count": null,
   "id": "7b683630",
   "metadata": {},
   "outputs": [],
   "source": [
    "40. クラスタリングに関する次の記述のうち、正しいものはどれか。\n",
    "\n",
    "\n",
    "Answer Provided:\n",
    "✕凝集型の階層的クラスタリングは、最初にすべてのデータが一つのクラスタに所属していると考え、\n",
    "順次クラスタを分割していく手法である。\n",
    "\n",
    "Correct Answer: k-meansは、最初にランダムにクラスタ中心を割り当て、\n",
    "クラスタ中心を各データとの距離を計算しながら修正し、最終的なクラスタ中心が収束するまで再計算を行いクラスタリングする手法である。\n"
   ]
  },
  {
   "cell_type": "code",
   "execution_count": null,
   "id": "0ca5899d",
   "metadata": {},
   "outputs": [],
   "source": [
    "→凝集型の階層型クラスタリングに関する解説が逆。\n",
    "　凝集型の階層型クラスタリングは個々のクラスタを逆に大きくしていく。\n",
    "　順次クラスタを分割していく手法は分岐型の階層型クラスタリングである。"
   ]
  },
  {
   "cell_type": "code",
   "execution_count": null,
   "id": "b35ec2c8",
   "metadata": {},
   "outputs": [],
   "source": [
    "要復習\n",
    "・DBSCAN法・密度準拠クラスタリングアルゴリズムを実際にやってみる\n",
    "・正規表現\n",
    "・loggingモジュールの活用法\n",
    "・ベクトル・行列の演算\n",
    "（実際にベクトル・行列を使った数学問題を解きPythonを使った演算を書いておく）\n",
    "・ユークリッド距離とマンハッタン距離、ベクトルの演算\n",
    "・行列同士の掛け算\n",
    "・pickleモジュール = 直列化\n",
    "\n",
    "・numpy・pandasを使った演算\n",
    "・数学の基礎(微分積分、線形代数、ベクトルと行列の問題を頭に入れる)\n",
    "→数カ月かけて中学レベル・高校レベルの数学を学びなおしてみる\n",
    "　数学やアルゴリズムで頭痛や迷いを感じないようにするのが目的"
   ]
  }
 ],
 "metadata": {
  "hide_input": false,
  "kernelspec": {
   "display_name": "Python 3 (ipykernel)",
   "language": "python",
   "name": "python3"
  },
  "language_info": {
   "codemirror_mode": {
    "name": "ipython",
    "version": 3
   },
   "file_extension": ".py",
   "mimetype": "text/x-python",
   "name": "python",
   "nbconvert_exporter": "python",
   "pygments_lexer": "ipython3",
   "version": "3.10.9"
  },
  "nbTranslate": {
   "displayLangs": [
    "*"
   ],
   "hotkey": "alt-t",
   "langInMainMenu": true,
   "sourceLang": "en",
   "targetLang": "fr",
   "useGoogleTranslate": true
  },
  "toc": {
   "base_numbering": 1,
   "nav_menu": {},
   "number_sections": true,
   "sideBar": true,
   "skip_h1_title": false,
   "title_cell": "Table of Contents",
   "title_sidebar": "Contents",
   "toc_cell": false,
   "toc_position": {},
   "toc_section_display": true,
   "toc_window_display": false
  },
  "varInspector": {
   "cols": {
    "lenName": 16,
    "lenType": 16,
    "lenVar": 40
   },
   "kernels_config": {
    "python": {
     "delete_cmd_postfix": "",
     "delete_cmd_prefix": "del ",
     "library": "var_list.py",
     "varRefreshCmd": "print(var_dic_list())"
    },
    "r": {
     "delete_cmd_postfix": ") ",
     "delete_cmd_prefix": "rm(",
     "library": "var_list.r",
     "varRefreshCmd": "cat(var_dic_list()) "
    }
   },
   "types_to_exclude": [
    "module",
    "function",
    "builtin_function_or_method",
    "instance",
    "_Feature"
   ],
   "window_display": false
  }
 },
 "nbformat": 4,
 "nbformat_minor": 5
}
